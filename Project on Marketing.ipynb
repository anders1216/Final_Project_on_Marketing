{
 "cells": [
  {
   "cell_type": "code",
   "execution_count": 57,
   "metadata": {
    "collapsed": true
   },
   "outputs": [],
   "source": [
    "# Import Libraries\n",
    "import pandas as pd\n",
    "import numpy as np\n",
    "import xlsxwriter\n",
    "import matplotlib.pyplot as plt\n",
    "\n",
    "#show plot in notebook\n",
    "%matplotlib inline \n",
    "\n",
    "#limits amount of lines pandas prints out\n",
    "from pandas import set_option \n",
    "set_option('display.max_rows', 10)"
   ]
  },
  {
   "cell_type": "markdown",
   "metadata": {},
   "source": [
    "# Importing and Cleaning Data"
   ]
  },
  {
   "cell_type": "code",
   "execution_count": 58,
   "metadata": {
    "collapsed": false
   },
   "outputs": [
    {
     "data": {
      "text/html": [
       "<div>\n",
       "<table border=\"1\" class=\"dataframe\">\n",
       "  <thead>\n",
       "    <tr style=\"text-align: right;\">\n",
       "      <th></th>\n",
       "      <th>Exchange Rate</th>\n",
       "      <th>Customer</th>\n",
       "      <th>Field</th>\n",
       "      <th>Date of Order</th>\n",
       "      <th>Total Sales</th>\n",
       "      <th>Year of First Order</th>\n",
       "    </tr>\n",
       "  </thead>\n",
       "  <tbody>\n",
       "    <tr>\n",
       "      <th>0</th>\n",
       "      <td>1.2563</td>\n",
       "      <td>3M Maplewood</td>\n",
       "      <td>solutions provider</td>\n",
       "      <td>2015-04-13</td>\n",
       "      <td>3267.00</td>\n",
       "      <td>2009</td>\n",
       "    </tr>\n",
       "    <tr>\n",
       "      <th>1</th>\n",
       "      <td>1.2188</td>\n",
       "      <td>ABB Australia Pty Limited</td>\n",
       "      <td>engine technology</td>\n",
       "      <td>2015-05-21</td>\n",
       "      <td>480.00</td>\n",
       "      <td>2008</td>\n",
       "    </tr>\n",
       "    <tr>\n",
       "      <th>2</th>\n",
       "      <td>1.1800</td>\n",
       "      <td>Accutech Instrumentation</td>\n",
       "      <td>distributor</td>\n",
       "      <td>2015-01-13</td>\n",
       "      <td>18990.40</td>\n",
       "      <td>2013</td>\n",
       "    </tr>\n",
       "    <tr>\n",
       "      <th>3</th>\n",
       "      <td>1.2524</td>\n",
       "      <td>Advanced Analytical Technologies</td>\n",
       "      <td>chemical</td>\n",
       "      <td>2015-01-29</td>\n",
       "      <td>754.00</td>\n",
       "      <td>2015</td>\n",
       "    </tr>\n",
       "    <tr>\n",
       "      <th>4</th>\n",
       "      <td>1.0000</td>\n",
       "      <td>Advanced Engine Technology</td>\n",
       "      <td>engine technology</td>\n",
       "      <td>2015-06-23</td>\n",
       "      <td>7330.92</td>\n",
       "      <td>2008</td>\n",
       "    </tr>\n",
       "    <tr>\n",
       "      <th>...</th>\n",
       "      <td>...</td>\n",
       "      <td>...</td>\n",
       "      <td>...</td>\n",
       "      <td>...</td>\n",
       "      <td>...</td>\n",
       "      <td>...</td>\n",
       "    </tr>\n",
       "    <tr>\n",
       "      <th>747</th>\n",
       "      <td>NaN</td>\n",
       "      <td>University West. Aus</td>\n",
       "      <td>research</td>\n",
       "      <td>NaT</td>\n",
       "      <td>3266.55</td>\n",
       "      <td>NaN</td>\n",
       "    </tr>\n",
       "    <tr>\n",
       "      <th>748</th>\n",
       "      <td>NaN</td>\n",
       "      <td>US DOE NNSA</td>\n",
       "      <td>research</td>\n",
       "      <td>NaT</td>\n",
       "      <td>5730.60</td>\n",
       "      <td>NaN</td>\n",
       "    </tr>\n",
       "    <tr>\n",
       "      <th>749</th>\n",
       "      <td>NaN</td>\n",
       "      <td>Valvoline Company</td>\n",
       "      <td>engine technology</td>\n",
       "      <td>NaT</td>\n",
       "      <td>1628.55</td>\n",
       "      <td>NaN</td>\n",
       "    </tr>\n",
       "    <tr>\n",
       "      <th>750</th>\n",
       "      <td>NaN</td>\n",
       "      <td>West Taylor</td>\n",
       "      <td>other</td>\n",
       "      <td>NaT</td>\n",
       "      <td>1000.00</td>\n",
       "      <td>NaN</td>\n",
       "    </tr>\n",
       "    <tr>\n",
       "      <th>751</th>\n",
       "      <td>NaN</td>\n",
       "      <td>Woodward Inc.</td>\n",
       "      <td>aerospace</td>\n",
       "      <td>NaT</td>\n",
       "      <td>3738.24</td>\n",
       "      <td>NaN</td>\n",
       "    </tr>\n",
       "  </tbody>\n",
       "</table>\n",
       "<p>752 rows × 6 columns</p>\n",
       "</div>"
      ],
      "text/plain": [
       "     Exchange Rate                          Customer               Field  \\\n",
       "0           1.2563                      3M Maplewood  solutions provider   \n",
       "1           1.2188         ABB Australia Pty Limited   engine technology   \n",
       "2           1.1800          Accutech Instrumentation         distributor   \n",
       "3           1.2524  Advanced Analytical Technologies            chemical   \n",
       "4           1.0000       Advanced Engine Technology   engine technology    \n",
       "..             ...                               ...                 ...   \n",
       "747            NaN         University West. Aus                research    \n",
       "748            NaN         US DOE NNSA                          research   \n",
       "749            NaN         Valvoline Company           engine technology   \n",
       "750            NaN         West Taylor                             other   \n",
       "751            NaN         Woodward Inc.                       aerospace   \n",
       "\n",
       "    Date of Order  Total Sales Year of First Order  \n",
       "0      2015-04-13      3267.00                2009  \n",
       "1      2015-05-21       480.00                2008  \n",
       "2      2015-01-13     18990.40                2013  \n",
       "3      2015-01-29       754.00                2015  \n",
       "4      2015-06-23      7330.92                2008  \n",
       "..            ...          ...                 ...  \n",
       "747           NaT      3266.55                 NaN  \n",
       "748           NaT      5730.60                 NaN  \n",
       "749           NaT      1628.55                 NaN  \n",
       "750           NaT      1000.00                 NaN  \n",
       "751           NaT      3738.24                 NaN  \n",
       "\n",
       "[752 rows x 6 columns]"
      ]
     },
     "execution_count": 58,
     "metadata": {},
     "output_type": "execute_result"
    }
   ],
   "source": [
    "#Loading the main dataset from excel into python, specified taking data from the 'Sales' sheet\n",
    "Sales_df = pd.read_excel('Sales Data.xlsm', sheetname = 'Sales')\n",
    "Sales_df"
   ]
  },
  {
   "cell_type": "code",
   "execution_count": 59,
   "metadata": {
    "collapsed": false
   },
   "outputs": [],
   "source": [
    "# Renaming the columns \n",
    "Sales_df.columns = [['Exchange_Rate', 'Customer', 'Field', 'Date_of_Order', 'Total_Sales', 'Year_of_First_Order']]"
   ]
  },
  {
   "cell_type": "code",
   "execution_count": 60,
   "metadata": {
    "collapsed": false
   },
   "outputs": [
    {
     "data": {
      "text/plain": [
       "747    1\n",
       "748    1\n",
       "749    1\n",
       "750    1\n",
       "751    1\n",
       "Name: Exchange_Rate, dtype: float64"
      ]
     },
     "execution_count": 60,
     "metadata": {},
     "output_type": "execute_result"
    }
   ],
   "source": [
    "# Replacing the empty values in the Exchange Rate column with 1. \n",
    "Sales_df['Exchange_Rate'].replace([None], [1]).tail()"
   ]
  },
  {
   "cell_type": "code",
   "execution_count": 6,
   "metadata": {
    "collapsed": false
   },
   "outputs": [
    {
     "data": {
      "text/html": [
       "<div>\n",
       "<table border=\"1\" class=\"dataframe\">\n",
       "  <thead>\n",
       "    <tr style=\"text-align: right;\">\n",
       "      <th></th>\n",
       "      <th>Exchange_Rate</th>\n",
       "      <th>Customer</th>\n",
       "      <th>Field</th>\n",
       "      <th>Date_of_Order</th>\n",
       "      <th>Total_Sales</th>\n",
       "      <th>Year_of_First_Order</th>\n",
       "      <th>Sales_in_CAD</th>\n",
       "    </tr>\n",
       "  </thead>\n",
       "  <tbody>\n",
       "    <tr>\n",
       "      <th>0</th>\n",
       "      <td>1.2563</td>\n",
       "      <td>3M Maplewood</td>\n",
       "      <td>solutions provider</td>\n",
       "      <td>2015-04-13</td>\n",
       "      <td>3267.00</td>\n",
       "      <td>2009</td>\n",
       "      <td>4104.3321</td>\n",
       "    </tr>\n",
       "    <tr>\n",
       "      <th>1</th>\n",
       "      <td>1.2188</td>\n",
       "      <td>ABB Australia Pty Limited</td>\n",
       "      <td>engine technology</td>\n",
       "      <td>2015-05-21</td>\n",
       "      <td>480.00</td>\n",
       "      <td>2008</td>\n",
       "      <td>585.0240</td>\n",
       "    </tr>\n",
       "    <tr>\n",
       "      <th>2</th>\n",
       "      <td>1.1800</td>\n",
       "      <td>Accutech Instrumentation</td>\n",
       "      <td>distributor</td>\n",
       "      <td>2015-01-13</td>\n",
       "      <td>18990.40</td>\n",
       "      <td>2013</td>\n",
       "      <td>22408.6720</td>\n",
       "    </tr>\n",
       "    <tr>\n",
       "      <th>3</th>\n",
       "      <td>1.2524</td>\n",
       "      <td>Advanced Analytical Technologies</td>\n",
       "      <td>chemical</td>\n",
       "      <td>2015-01-29</td>\n",
       "      <td>754.00</td>\n",
       "      <td>2015</td>\n",
       "      <td>944.3096</td>\n",
       "    </tr>\n",
       "    <tr>\n",
       "      <th>4</th>\n",
       "      <td>1.0000</td>\n",
       "      <td>Advanced Engine Technology</td>\n",
       "      <td>engine technology</td>\n",
       "      <td>2015-06-23</td>\n",
       "      <td>7330.92</td>\n",
       "      <td>2008</td>\n",
       "      <td>7330.9200</td>\n",
       "    </tr>\n",
       "  </tbody>\n",
       "</table>\n",
       "</div>"
      ],
      "text/plain": [
       "   Exchange_Rate                          Customer               Field  \\\n",
       "0         1.2563                      3M Maplewood  solutions provider   \n",
       "1         1.2188         ABB Australia Pty Limited   engine technology   \n",
       "2         1.1800          Accutech Instrumentation         distributor   \n",
       "3         1.2524  Advanced Analytical Technologies            chemical   \n",
       "4         1.0000       Advanced Engine Technology   engine technology    \n",
       "\n",
       "  Date_of_Order  Total_Sales Year_of_First_Order  Sales_in_CAD  \n",
       "0    2015-04-13      3267.00                2009     4104.3321  \n",
       "1    2015-05-21       480.00                2008      585.0240  \n",
       "2    2015-01-13     18990.40                2013    22408.6720  \n",
       "3    2015-01-29       754.00                2015      944.3096  \n",
       "4    2015-06-23      7330.92                2008     7330.9200  "
      ]
     },
     "execution_count": 6,
     "metadata": {},
     "output_type": "execute_result"
    }
   ],
   "source": [
    "# Creating a new column in the data set, which puts all sales amounts in Canadian dollars. \n",
    "Sales_df['Sales_in_CAD'] = Sales_df['Exchange_Rate'] * Sales_df['Total_Sales'] \n",
    "Sales_df.head()"
   ]
  },
  {
   "cell_type": "markdown",
   "metadata": {},
   "source": [
    "# Resampling data to make a plot that compares cost of ads to sales"
   ]
  },
  {
   "cell_type": "code",
   "execution_count": 7,
   "metadata": {
    "collapsed": false
   },
   "outputs": [
    {
     "data": {
      "text/html": [
       "<div>\n",
       "<table border=\"1\" class=\"dataframe\">\n",
       "  <thead>\n",
       "    <tr style=\"text-align: right;\">\n",
       "      <th></th>\n",
       "      <th>Total_Sales</th>\n",
       "    </tr>\n",
       "    <tr>\n",
       "      <th>Date_of_Order</th>\n",
       "      <th></th>\n",
       "    </tr>\n",
       "  </thead>\n",
       "  <tbody>\n",
       "    <tr>\n",
       "      <th>2015-04-13</th>\n",
       "      <td>3267.00</td>\n",
       "    </tr>\n",
       "    <tr>\n",
       "      <th>2015-05-21</th>\n",
       "      <td>480.00</td>\n",
       "    </tr>\n",
       "    <tr>\n",
       "      <th>2015-01-13</th>\n",
       "      <td>18990.40</td>\n",
       "    </tr>\n",
       "    <tr>\n",
       "      <th>2015-01-29</th>\n",
       "      <td>754.00</td>\n",
       "    </tr>\n",
       "    <tr>\n",
       "      <th>2015-06-23</th>\n",
       "      <td>7330.92</td>\n",
       "    </tr>\n",
       "  </tbody>\n",
       "</table>\n",
       "</div>"
      ],
      "text/plain": [
       "               Total_Sales\n",
       "Date_of_Order             \n",
       "2015-04-13         3267.00\n",
       "2015-05-21          480.00\n",
       "2015-01-13        18990.40\n",
       "2015-01-29          754.00\n",
       "2015-06-23         7330.92"
      ]
     },
     "execution_count": 7,
     "metadata": {},
     "output_type": "execute_result"
    }
   ],
   "source": [
    "# Grabbing two columns from the dataset and setting the index to Date of order.\n",
    "Resampled_ind = Sales_df[['Date_of_Order', 'Total_Sales']].set_index('Date_of_Order')\n",
    "Resampled_ind.head()"
   ]
  },
  {
   "cell_type": "code",
   "execution_count": 8,
   "metadata": {
    "collapsed": false
   },
   "outputs": [
    {
     "data": {
      "text/html": [
       "<div>\n",
       "<table border=\"1\" class=\"dataframe\">\n",
       "  <thead>\n",
       "    <tr style=\"text-align: right;\">\n",
       "      <th></th>\n",
       "      <th>Total_Sales</th>\n",
       "    </tr>\n",
       "    <tr>\n",
       "      <th>Date_of_Order</th>\n",
       "      <th></th>\n",
       "    </tr>\n",
       "  </thead>\n",
       "  <tbody>\n",
       "    <tr>\n",
       "      <th>2010-08-31</th>\n",
       "      <td>131518.52</td>\n",
       "    </tr>\n",
       "    <tr>\n",
       "      <th>2010-09-30</th>\n",
       "      <td>97850.61</td>\n",
       "    </tr>\n",
       "    <tr>\n",
       "      <th>2010-10-31</th>\n",
       "      <td>26195.94</td>\n",
       "    </tr>\n",
       "    <tr>\n",
       "      <th>2010-11-30</th>\n",
       "      <td>37621.75</td>\n",
       "    </tr>\n",
       "    <tr>\n",
       "      <th>2010-12-31</th>\n",
       "      <td>49579.74</td>\n",
       "    </tr>\n",
       "  </tbody>\n",
       "</table>\n",
       "</div>"
      ],
      "text/plain": [
       "               Total_Sales\n",
       "Date_of_Order             \n",
       "2010-08-31       131518.52\n",
       "2010-09-30        97850.61\n",
       "2010-10-31        26195.94\n",
       "2010-11-30        37621.75\n",
       "2010-12-31        49579.74"
      ]
     },
     "execution_count": 8,
     "metadata": {},
     "output_type": "execute_result"
    }
   ],
   "source": [
    "# Data will be downsampled to month, takin the sum of the Sales in each month. \n",
    "Index_by_Month = Resampled_ind.resample('M', how=('sum'))   \n",
    "Index_by_Month.head()"
   ]
  },
  {
   "cell_type": "code",
   "execution_count": 9,
   "metadata": {
    "collapsed": false
   },
   "outputs": [
    {
     "data": {
      "text/html": [
       "<div>\n",
       "<table border=\"1\" class=\"dataframe\">\n",
       "  <thead>\n",
       "    <tr style=\"text-align: right;\">\n",
       "      <th></th>\n",
       "      <th>Total_Sales</th>\n",
       "    </tr>\n",
       "    <tr>\n",
       "      <th>Date_of_Order</th>\n",
       "      <th></th>\n",
       "    </tr>\n",
       "  </thead>\n",
       "  <tbody>\n",
       "    <tr>\n",
       "      <th>2013-08-31</th>\n",
       "      <td>78196.70</td>\n",
       "    </tr>\n",
       "    <tr>\n",
       "      <th>2013-09-30</th>\n",
       "      <td>55701.32</td>\n",
       "    </tr>\n",
       "    <tr>\n",
       "      <th>2013-10-31</th>\n",
       "      <td>106408.05</td>\n",
       "    </tr>\n",
       "    <tr>\n",
       "      <th>2013-11-30</th>\n",
       "      <td>98597.66</td>\n",
       "    </tr>\n",
       "    <tr>\n",
       "      <th>2013-12-31</th>\n",
       "      <td>77714.56</td>\n",
       "    </tr>\n",
       "  </tbody>\n",
       "</table>\n",
       "</div>"
      ],
      "text/plain": [
       "               Total_Sales\n",
       "Date_of_Order             \n",
       "2013-08-31        78196.70\n",
       "2013-09-30        55701.32\n",
       "2013-10-31       106408.05\n",
       "2013-11-30        98597.66\n",
       "2013-12-31        77714.56"
      ]
     },
     "execution_count": 9,
     "metadata": {},
     "output_type": "execute_result"
    }
   ],
   "source": [
    "# Deleting all rows before 2013-08-31. Keeping only two business years 2013 - 2015. \n",
    "Month_ind = Index_by_Month.drop(Index_by_Month.index[:36])\n",
    "Month_ind.head()"
   ]
  },
  {
   "cell_type": "markdown",
   "metadata": {},
   "source": [
    "# Importing a new dataset (Cost of Ads per month)"
   ]
  },
  {
   "cell_type": "code",
   "execution_count": 48,
   "metadata": {
    "collapsed": false
   },
   "outputs": [
    {
     "data": {
      "text/html": [
       "<div>\n",
       "<table border=\"1\" class=\"dataframe\">\n",
       "  <thead>\n",
       "    <tr style=\"text-align: right;\">\n",
       "      <th></th>\n",
       "      <th>Ad Cost</th>\n",
       "    </tr>\n",
       "    <tr>\n",
       "      <th>Date</th>\n",
       "      <th></th>\n",
       "    </tr>\n",
       "  </thead>\n",
       "  <tbody>\n",
       "    <tr>\n",
       "      <th>2013-08-01</th>\n",
       "      <td>947.94</td>\n",
       "    </tr>\n",
       "    <tr>\n",
       "      <th>2013-09-01</th>\n",
       "      <td>936.06</td>\n",
       "    </tr>\n",
       "    <tr>\n",
       "      <th>2013-10-01</th>\n",
       "      <td>935.72</td>\n",
       "    </tr>\n",
       "    <tr>\n",
       "      <th>2013-11-01</th>\n",
       "      <td>930.47</td>\n",
       "    </tr>\n",
       "    <tr>\n",
       "      <th>2013-12-01</th>\n",
       "      <td>948.00</td>\n",
       "    </tr>\n",
       "  </tbody>\n",
       "</table>\n",
       "</div>"
      ],
      "text/plain": [
       "            Ad Cost \n",
       "Date                \n",
       "2013-08-01    947.94\n",
       "2013-09-01    936.06\n",
       "2013-10-01    935.72\n",
       "2013-11-01    930.47\n",
       "2013-12-01    948.00"
      ]
     },
     "execution_count": 48,
     "metadata": {},
     "output_type": "execute_result"
    }
   ],
   "source": [
    "#Loading another dataset from excel into python from a different sheet, and making the Date column the index.\n",
    "Ads_df = pd.read_excel('Sales Data.xlsm', sheetname = 'Ads', index_col='Date')\n",
    "Ads_df.head()"
   ]
  },
  {
   "cell_type": "code",
   "execution_count": 51,
   "metadata": {
    "collapsed": false
   },
   "outputs": [
    {
     "data": {
      "text/html": [
       "<div>\n",
       "<table border=\"1\" class=\"dataframe\">\n",
       "  <thead>\n",
       "    <tr style=\"text-align: right;\">\n",
       "      <th></th>\n",
       "      <th>Ad_Cost</th>\n",
       "    </tr>\n",
       "    <tr>\n",
       "      <th>Date</th>\n",
       "      <th></th>\n",
       "    </tr>\n",
       "  </thead>\n",
       "  <tbody>\n",
       "    <tr>\n",
       "      <th>2013-08-31</th>\n",
       "      <td>947.94</td>\n",
       "    </tr>\n",
       "    <tr>\n",
       "      <th>2013-09-30</th>\n",
       "      <td>936.06</td>\n",
       "    </tr>\n",
       "    <tr>\n",
       "      <th>2013-10-31</th>\n",
       "      <td>935.72</td>\n",
       "    </tr>\n",
       "    <tr>\n",
       "      <th>2013-11-30</th>\n",
       "      <td>930.47</td>\n",
       "    </tr>\n",
       "    <tr>\n",
       "      <th>2013-12-31</th>\n",
       "      <td>948.00</td>\n",
       "    </tr>\n",
       "  </tbody>\n",
       "</table>\n",
       "</div>"
      ],
      "text/plain": [
       "            Ad_Cost\n",
       "Date               \n",
       "2013-08-31   947.94\n",
       "2013-09-30   936.06\n",
       "2013-10-31   935.72\n",
       "2013-11-30   930.47\n",
       "2013-12-31   948.00"
      ]
     },
     "execution_count": 51,
     "metadata": {},
     "output_type": "execute_result"
    }
   ],
   "source": [
    "# Renaming the column\n",
    "# Resampling the date column, so that the month is synonymous with the other table \n",
    "Ads_df.columns = ['Ad_Cost']\n",
    "Ads_df = Ads_df.resample('M', how=('sum'))   \n",
    "Ads_df.head()"
   ]
  },
  {
   "cell_type": "code",
   "execution_count": 53,
   "metadata": {
    "collapsed": false
   },
   "outputs": [
    {
     "data": {
      "text/html": [
       "<div>\n",
       "<table border=\"1\" class=\"dataframe\">\n",
       "  <thead>\n",
       "    <tr style=\"text-align: right;\">\n",
       "      <th></th>\n",
       "      <th>Total_Sales</th>\n",
       "      <th>Ad_Cost</th>\n",
       "    </tr>\n",
       "    <tr>\n",
       "      <th>Date_of_Order</th>\n",
       "      <th></th>\n",
       "      <th></th>\n",
       "    </tr>\n",
       "  </thead>\n",
       "  <tbody>\n",
       "    <tr>\n",
       "      <th>2013-08-31</th>\n",
       "      <td>78196.70</td>\n",
       "      <td>947.94</td>\n",
       "    </tr>\n",
       "    <tr>\n",
       "      <th>2013-09-30</th>\n",
       "      <td>55701.32</td>\n",
       "      <td>936.06</td>\n",
       "    </tr>\n",
       "    <tr>\n",
       "      <th>2013-10-31</th>\n",
       "      <td>106408.05</td>\n",
       "      <td>935.72</td>\n",
       "    </tr>\n",
       "    <tr>\n",
       "      <th>2013-11-30</th>\n",
       "      <td>98597.66</td>\n",
       "      <td>930.47</td>\n",
       "    </tr>\n",
       "    <tr>\n",
       "      <th>2013-12-31</th>\n",
       "      <td>77714.56</td>\n",
       "      <td>948.00</td>\n",
       "    </tr>\n",
       "  </tbody>\n",
       "</table>\n",
       "</div>"
      ],
      "text/plain": [
       "               Total_Sales  Ad_Cost\n",
       "Date_of_Order                      \n",
       "2013-08-31        78196.70   947.94\n",
       "2013-09-30        55701.32   936.06\n",
       "2013-10-31       106408.05   935.72\n",
       "2013-11-30        98597.66   930.47\n",
       "2013-12-31        77714.56   948.00"
      ]
     },
     "execution_count": 53,
     "metadata": {},
     "output_type": "execute_result"
    }
   ],
   "source": [
    "Combined_data = pd.concat([Month_ind, Ads_df], axis=1, join_axes=[Month_ind.index])\n",
    "Combined_data.head()"
   ]
  },
  {
   "cell_type": "code",
   "execution_count": null,
   "metadata": {
    "collapsed": true
   },
   "outputs": [],
   "source": []
  },
  {
   "cell_type": "code",
   "execution_count": null,
   "metadata": {
    "collapsed": true
   },
   "outputs": [],
   "source": []
  }
 ],
 "metadata": {
  "kernelspec": {
   "display_name": "Python 3",
   "language": "python",
   "name": "python3"
  },
  "language_info": {
   "codemirror_mode": {
    "name": "ipython",
    "version": 3
   },
   "file_extension": ".py",
   "mimetype": "text/x-python",
   "name": "python",
   "nbconvert_exporter": "python",
   "pygments_lexer": "ipython3",
   "version": "3.4.3"
  }
 },
 "nbformat": 4,
 "nbformat_minor": 0
}
