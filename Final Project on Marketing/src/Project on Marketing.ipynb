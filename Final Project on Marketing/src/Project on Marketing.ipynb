{
 "cells": [
  {
   "cell_type": "code",
   "execution_count": 12,
   "metadata": {
    "collapsed": true
   },
   "outputs": [],
   "source": [
    "# Import Libraries\n",
    "import pandas as pd\n",
    "import numpy as np\n",
    "import xlsxwriter\n",
    "import matplotlib.pyplot as plt\n",
    "\n",
    "# Importing statistics libraries\n",
    "import statsmodels.api as sm\n",
    "import scipy\n",
    "from scipy import stats\n",
    "\n",
    "#show plot in notebook\n",
    "%matplotlib inline \n",
    "\n",
    "#limits amount of lines pandas prints out\n",
    "from pandas import set_option \n",
    "set_option('display.max_rows', 10)"
   ]
  },
  {
   "cell_type": "markdown",
   "metadata": {},
   "source": [
    "# Importing and Cleaning Data"
   ]
  },
  {
   "cell_type": "code",
   "execution_count": 13,
   "metadata": {
    "collapsed": false
   },
   "outputs": [
    {
     "data": {
      "text/html": [
       "<div>\n",
       "<table border=\"1\" class=\"dataframe\">\n",
       "  <thead>\n",
       "    <tr style=\"text-align: right;\">\n",
       "      <th></th>\n",
       "      <th>Exchange_Rate</th>\n",
       "      <th>Customer</th>\n",
       "      <th>Field</th>\n",
       "      <th>Date_of_Order</th>\n",
       "      <th>Total_Sales</th>\n",
       "      <th>Year_of_First_Order</th>\n",
       "      <th>New_or_Returning</th>\n",
       "    </tr>\n",
       "  </thead>\n",
       "  <tbody>\n",
       "    <tr>\n",
       "      <th>0</th>\n",
       "      <td>NaN</td>\n",
       "      <td>ABB Australia</td>\n",
       "      <td>engine technology</td>\n",
       "      <td>2010-08-04</td>\n",
       "      <td>1897.60</td>\n",
       "      <td>NaN</td>\n",
       "      <td>Returning</td>\n",
       "    </tr>\n",
       "    <tr>\n",
       "      <th>1</th>\n",
       "      <td>NaN</td>\n",
       "      <td>A&amp;A Metal Products</td>\n",
       "      <td>engine technology</td>\n",
       "      <td>2010-08-16</td>\n",
       "      <td>28963.00</td>\n",
       "      <td>NaN</td>\n",
       "      <td>Returning</td>\n",
       "    </tr>\n",
       "    <tr>\n",
       "      <th>2</th>\n",
       "      <td>NaN</td>\n",
       "      <td>Analytical Engineer.</td>\n",
       "      <td>engine technology</td>\n",
       "      <td>2010-08-20</td>\n",
       "      <td>76339.00</td>\n",
       "      <td>NaN</td>\n",
       "      <td>Returning</td>\n",
       "    </tr>\n",
       "    <tr>\n",
       "      <th>3</th>\n",
       "      <td>NaN</td>\n",
       "      <td>Bombardier Inc.</td>\n",
       "      <td>aerospace</td>\n",
       "      <td>2010-08-27</td>\n",
       "      <td>24318.92</td>\n",
       "      <td>NaN</td>\n",
       "      <td>New</td>\n",
       "    </tr>\n",
       "    <tr>\n",
       "      <th>4</th>\n",
       "      <td>NaN</td>\n",
       "      <td>Beef Products Inc.</td>\n",
       "      <td>food</td>\n",
       "      <td>2010-09-15</td>\n",
       "      <td>35084.00</td>\n",
       "      <td>NaN</td>\n",
       "      <td>New</td>\n",
       "    </tr>\n",
       "  </tbody>\n",
       "</table>\n",
       "</div>"
      ],
      "text/plain": [
       "   Exchange_Rate              Customer              Field Date_of_Order  \\\n",
       "0            NaN         ABB Australia  engine technology    2010-08-04   \n",
       "1            NaN    A&A Metal Products  engine technology    2010-08-16   \n",
       "2            NaN  Analytical Engineer.  engine technology    2010-08-20   \n",
       "3            NaN       Bombardier Inc.          aerospace    2010-08-27   \n",
       "4            NaN    Beef Products Inc.               food    2010-09-15   \n",
       "\n",
       "   Total_Sales Year_of_First_Order New_or_Returning  \n",
       "0      1897.60                 NaN       Returning   \n",
       "1     28963.00                 NaN       Returning   \n",
       "2     76339.00                 NaN       Returning   \n",
       "3     24318.92                 NaN              New  \n",
       "4     35084.00                 NaN              New  "
      ]
     },
     "execution_count": 13,
     "metadata": {},
     "output_type": "execute_result"
    }
   ],
   "source": [
    "#Loading the main dataset from excel into python, specified taking data from the 'Sales' sheet\n",
    "Sales_df = pd.read_excel('../data/SalesDataA.xlsm', sheetname = 'Sales')\n",
    "# Renaming the columns \n",
    "Sales_df.columns = [['Exchange_Rate', 'Customer', 'Field', 'Date_of_Order', 'Total_Sales', 'Year_of_First_Order', 'New_or_Returning']]\n",
    "Sales_df.head()"
   ]
  },
  {
   "cell_type": "code",
   "execution_count": 14,
   "metadata": {
    "collapsed": false
   },
   "outputs": [
    {
     "data": {
      "text/html": [
       "<div>\n",
       "<table border=\"1\" class=\"dataframe\">\n",
       "  <thead>\n",
       "    <tr style=\"text-align: right;\">\n",
       "      <th></th>\n",
       "      <th>Exchange_Rate</th>\n",
       "      <th>Customer</th>\n",
       "      <th>Field</th>\n",
       "      <th>Date_of_Order</th>\n",
       "      <th>Total_Sales</th>\n",
       "      <th>Year_of_First_Order</th>\n",
       "      <th>New_or_Returning</th>\n",
       "      <th>Sales_in_CAD</th>\n",
       "    </tr>\n",
       "  </thead>\n",
       "  <tbody>\n",
       "    <tr>\n",
       "      <th>0</th>\n",
       "      <td>1</td>\n",
       "      <td>ABB Australia</td>\n",
       "      <td>engine technology</td>\n",
       "      <td>2010-08-04</td>\n",
       "      <td>1897.60</td>\n",
       "      <td>1</td>\n",
       "      <td>Returning</td>\n",
       "      <td>1897.60</td>\n",
       "    </tr>\n",
       "    <tr>\n",
       "      <th>1</th>\n",
       "      <td>1</td>\n",
       "      <td>A&amp;A Metal Products</td>\n",
       "      <td>engine technology</td>\n",
       "      <td>2010-08-16</td>\n",
       "      <td>28963.00</td>\n",
       "      <td>1</td>\n",
       "      <td>Returning</td>\n",
       "      <td>28963.00</td>\n",
       "    </tr>\n",
       "    <tr>\n",
       "      <th>2</th>\n",
       "      <td>1</td>\n",
       "      <td>Analytical Engineer.</td>\n",
       "      <td>engine technology</td>\n",
       "      <td>2010-08-20</td>\n",
       "      <td>76339.00</td>\n",
       "      <td>1</td>\n",
       "      <td>Returning</td>\n",
       "      <td>76339.00</td>\n",
       "    </tr>\n",
       "    <tr>\n",
       "      <th>3</th>\n",
       "      <td>1</td>\n",
       "      <td>Bombardier Inc.</td>\n",
       "      <td>aerospace</td>\n",
       "      <td>2010-08-27</td>\n",
       "      <td>24318.92</td>\n",
       "      <td>1</td>\n",
       "      <td>New</td>\n",
       "      <td>24318.92</td>\n",
       "    </tr>\n",
       "    <tr>\n",
       "      <th>4</th>\n",
       "      <td>1</td>\n",
       "      <td>Beef Products Inc.</td>\n",
       "      <td>food</td>\n",
       "      <td>2010-09-15</td>\n",
       "      <td>35084.00</td>\n",
       "      <td>1</td>\n",
       "      <td>New</td>\n",
       "      <td>35084.00</td>\n",
       "    </tr>\n",
       "  </tbody>\n",
       "</table>\n",
       "</div>"
      ],
      "text/plain": [
       "   Exchange_Rate              Customer              Field Date_of_Order  \\\n",
       "0              1         ABB Australia  engine technology    2010-08-04   \n",
       "1              1    A&A Metal Products  engine technology    2010-08-16   \n",
       "2              1  Analytical Engineer.  engine technology    2010-08-20   \n",
       "3              1       Bombardier Inc.          aerospace    2010-08-27   \n",
       "4              1    Beef Products Inc.               food    2010-09-15   \n",
       "\n",
       "   Total_Sales Year_of_First_Order New_or_Returning  Sales_in_CAD  \n",
       "0      1897.60                   1       Returning        1897.60  \n",
       "1     28963.00                   1       Returning       28963.00  \n",
       "2     76339.00                   1       Returning       76339.00  \n",
       "3     24318.92                   1              New      24318.92  \n",
       "4     35084.00                   1              New      35084.00  "
      ]
     },
     "execution_count": 14,
     "metadata": {},
     "output_type": "execute_result"
    }
   ],
   "source": [
    "# Replacing the empty values in the Exchange Rate column with 1 and setting the index to Date_of_Order\n",
    "Exchange_df= Sales_df[['Exchange_Rate', 'Customer', 'Field', 'Date_of_Order', 'Total_Sales', 'Year_of_First_Order', 'New_or_Returning']].replace([None], [1])\n",
    "# Creating a new column in the data set, which puts all sales amounts in Canadian dollars. \n",
    "Exchange_df['Sales_in_CAD'] = Exchange_df['Exchange_Rate'] * Exchange_df['Total_Sales']\n",
    "Exchange_df.head()"
   ]
  },
  {
   "cell_type": "markdown",
   "metadata": {},
   "source": [
    "The reason why the empty exchange rate values are replaced with 1 is because for these dates the exchange rate between Canadian and US dollars was basically 1, so the person entering the data did not bother writing in a value. "
   ]
  },
  {
   "cell_type": "code",
   "execution_count": 21,
   "metadata": {
    "collapsed": false
   },
   "outputs": [
    {
     "data": {
      "text/plain": [
       "'df = df.ix[:,\"number of columns you want to reindex\"]\\ndf.ix[:,\"Column you want to reindex as integer\"] = (df[\"Column title\"].str.extract(\"REGEx that will identify data in column\") + df[\"Column title\"].str.extract(\"REGEx that will identify data in column\").astype(\"float\")'"
      ]
     },
     "execution_count": 21,
     "metadata": {},
     "output_type": "execute_result"
    }
   ],
   "source": [
    "# Creating a new dataframe that includes all values with the Sales in CAD \n",
    "# All rows with dates under 2012-07-31 will be deleted\n",
    "#Change_New = Exchange_df[Exchange_df.index > '2012-07-31'].reset_index()\n",
    "#Change_New.head()\n",
    "\n",
    "# I think you need something like this \n",
    "'''df = df.ix[:,\"number of columns you want to reindex\"]\n",
    "df.ix[:,\"Column you want to reindex as integer\"] = (df[\"Column title\"].str.extract(\"REGEx that will identify data in column\") + df[\"Column title\"].str.extract(\"REGEx that will identify data in column\").astype(\"float\")'''\n",
    "\n",
    "#I cant seem to get this cell to work very well. I apologize. I mean to say more and do more as I think there is aproblem\n",
    "#with your indexing that ive been having as well but I can seem to get my key "
   ]
  },
  {
   "cell_type": "markdown",
   "metadata": {},
   "source": [
    "The reason why I deleted all rows before 2012-08-01, is because this data is not accurate (some of it is not sorted by month).  "
   ]
  },
  {
   "cell_type": "markdown",
   "metadata": {},
   "source": [
    "# PLOT 1: Resampling data to make a plot that compares money spent on ads per month to sales coming from new customers & number of new customers."
   ]
  },
  {
   "cell_type": "code",
   "execution_count": null,
   "metadata": {
    "collapsed": false
   },
   "outputs": [],
   "source": [
    "# Deleting all rows of sales from returning customers, to obtain Sales only from new customers. \n",
    "New_customers = Change_New.groupby(['New_or_Returning']).get_group('New')\n",
    "# Grabbing 3 columns from the dataset and setting the index to Date of order.\n",
    "Resampled_ind = New_customers[['Date_of_Order', 'Total_Sales', 'New_or_Returning']].set_index('Date_of_Order')\n",
    "Resampled_ind.head()"
   ]
  },
  {
   "cell_type": "code",
   "execution_count": null,
   "metadata": {
    "collapsed": false
   },
   "outputs": [],
   "source": [
    "# Replacing the 'New' string with the number 1 so that they can be added later. \n",
    "# And data is downsampled to month, taking the sum of the Sales and the new customers in each month. \n",
    "Index_Month= Resampled_ind[['New_or_Returning', 'Total_Sales']].replace(['New'], [1]).resample('M', how=('sum')) \n",
    "Index_Month.head()"
   ]
  },
  {
   "cell_type": "code",
   "execution_count": null,
   "metadata": {
    "collapsed": false
   },
   "outputs": [],
   "source": [
    "# Deleting all rows that have a date before 2013-08-31. Keeping only two business years 2013 - 2015. The reason why I dont \n",
    "# want data before this date, is because the Ad cost data which will be used for comparison only starts on this date. \n",
    "Downsampled_month = Index_Month[Index_Month.index > '2013-08-30']\n",
    "Downsampled_month.head()"
   ]
  },
  {
   "cell_type": "markdown",
   "metadata": {},
   "source": [
    "Importing a new dataset (Cost of Ads per month), coming from a different sheet in the same excel file. "
   ]
  },
  {
   "cell_type": "code",
   "execution_count": null,
   "metadata": {
    "collapsed": false
   },
   "outputs": [],
   "source": [
    "#Loading another dataset from excel into python from a different sheet, and making the Date column the index.\n",
    "Ads_df = pd.read_excel('../data/SalesDataA.xlsm', sheetname = 'Ads', index_col='Date')"
   ]
  },
  {
   "cell_type": "code",
   "execution_count": null,
   "metadata": {
    "collapsed": false
   },
   "outputs": [],
   "source": [
    "# Renaming the column\n",
    "# Resampling the date column, so that the month is synonymous with the other table \n",
    "Ads_df.columns = ['Ad_Cost']\n",
    "Ads_df = Ads_df.resample('M', how=('sum'))   \n",
    "Ads_df.head()"
   ]
  },
  {
   "cell_type": "code",
   "execution_count": null,
   "metadata": {
    "collapsed": false
   },
   "outputs": [],
   "source": [
    "# Combining the two dataframes by the date of order, and resetting the index.\n",
    "Combined_df = pd.concat([Downsampled_month, Ads_df], axis=1, join_axes=[Downsampled_month.index]).reset_index()\n",
    "Combined_df.head()"
   ]
  },
  {
   "cell_type": "code",
   "execution_count": null,
   "metadata": {
    "collapsed": false
   },
   "outputs": [],
   "source": [
    "\"\"\"Maybe You can further categorize your data so have more obvious trends?\n",
    "what I mean is that looking at your data its hard to tell what kind of trend there is.\"\"\"\n",
    "\n",
    "# Creating plots that compare cost of ads to Sales and Number of new customers. \n",
    "plt.figure(figsize=(12,4))\n",
    "\n",
    "#Subplot 1\n",
    "plt.subplot(1,2,1)\n",
    "plt.scatter(Combined_df.Ad_Cost, Combined_df.Total_Sales)\n",
    "plt.title('Relationship between Cost of Ads and Total Sales')\n",
    "plt.ylabel('Total Sales')\n",
    "plt.xlabel('Cost of Ads per month (CAD)')\n",
    "\n",
    "#Subplot 2 \n",
    "plt.subplot(1,2,2)\n",
    "plt.scatter(Combined_df.Ad_Cost, Combined_df.New_or_Returning)\n",
    "plt.title('Relationship between Cost of Ads and New Customers')\n",
    "plt.ylabel('Number of New Customers')\n",
    "plt.xlabel('Cost of Ads per month (CAD)')\n",
    "\n",
    "plt.tight_layout()"
   ]
  },
  {
   "cell_type": "markdown",
   "metadata": {},
   "source": [
    "We can now run linear regression analysis on these two plots, to see whether there is a relationship between the variables. "
   ]
  },
  {
   "cell_type": "code",
   "execution_count": null,
   "metadata": {
    "collapsed": false
   },
   "outputs": [],
   "source": [
    "# Running linear regression on the first subplot and showing the parameters. \n",
    "lm = sm.formula.ols(formula='Ad_Cost ~ Total_Sales', data = Combined_df).fit()\n",
    "lm.params"
   ]
  },
  {
   "cell_type": "code",
   "execution_count": null,
   "metadata": {
    "collapsed": false,
    "scrolled": true
   },
   "outputs": [],
   "source": [
    "# creating a dataframe to produce a list of numbers from 1 to the same length as the x axis\n",
    "new_x = pd.DataFrame({'Ad_cost' : range(1, 1800)})\n",
    "    \n",
    "# using the .predict to predict the y based on x\n",
    "y_preds = lm.predict(new_x)\n",
    "#looking at this I imagine that predict might need more qualifiers to make it work.\n",
    "#I would say further categorize the the data. Like color code the points so they are recognizazble an then will possibly sho\n",
    "#possiblities for further analysis.\n"
   ]
  },
  {
   "cell_type": "markdown",
   "metadata": {},
   "source": [
    "#PLOT 2: Plotting the distribution of sales over the years 2013- 2015 by month (Instead of plotting Sales, could plot the number of customers too). "
   ]
  },
  {
   "cell_type": "code",
   "execution_count": null,
   "metadata": {
    "collapsed": false
   },
   "outputs": [],
   "source": [
    "# Creating a dataframe with Date of Order as the index column\n",
    "Distribution_df = Exchange_df[['Date_of_Order', 'New_or_Returning', 'Sales_in_CAD']].set_index('Date_of_Order').resample('M', how=('sum')) \n",
    "# Downsampling the dataframe to have only values after 2012-07-30\n",
    "Distribution_df = Distribution_df[Distribution_df.index > '2012-07-31'].reset_index()\n",
    "Distribution_df.head()"
   ]
  },
  {
   "cell_type": "code",
   "execution_count": null,
   "metadata": {
    "collapsed": false
   },
   "outputs": [],
   "source": [
    "#Creating a new column of month, by taking the month out of the Date_of_Order column  \n",
    "Distribution_df['Month'] = Distribution_df['Date_of_Order'].dt.month\n",
    "Distribution_df.head()"
   ]
  },
  {
   "cell_type": "markdown",
   "metadata": {},
   "source": [
    "Making 3 different tables to have one table per business year from 2013-2015. Make a function for this so you dont have to repeat the same thing 3 times!"
   ]
  },
  {
   "cell_type": "code",
   "execution_count": null,
   "metadata": {
    "collapsed": true
   },
   "outputs": [],
   "source": [
    "# Defining a function that takes in two columns **I NEED HELP WITH THIS HOW DO YOU OUTPUT A TABLE WITH A NEW COLUMN USING A funct\n",
    "def businessyear(x, y):\n",
    "    '''Takes in two columns (one of them must be a date) of a dataframe and creates a table of one business year, \n",
    "    also exctracting the month out of the Date column'''\n",
    "    # Extracting the month out of the Date column (column x)\n",
    "    Month = x.dt.month"
   ]
  },
  {
   "cell_type": "code",
   "execution_count": null,
   "metadata": {
    "collapsed": false
   },
   "outputs": [],
   "source": [
    "businessyear(Exchange_df.Date_of_Order, Exchange_df.Sales_in_CAD)"
   ]
  },
  {
   "cell_type": "code",
   "execution_count": null,
   "metadata": {
    "collapsed": false
   },
   "outputs": [],
   "source": [
    "# Making a table for the business year 2014-2015\n",
    "Year3_df = Distribution_df.drop(Distribution_df.index[:24])\n",
    "\n",
    "# Making a table for the business year 2012-2013 \n",
    "Year1_df = Distribution_df.drop(Distribution_df.index[12:])\n",
    "\n",
    "# Making a table for the business year 2013-2014 only\n",
    "Year2_df = Distribution_df.iloc[12:24]"
   ]
  },
  {
   "cell_type": "code",
   "execution_count": null,
   "metadata": {
    "collapsed": false
   },
   "outputs": [],
   "source": [
    "#Plotting all 3 business years on the same plot, each year in a different color.\n",
    "plt.figure(figsize=(10,4))\n",
    "plt.plot(Year2_df.Month, Year2_df.Sales_in_CAD, 'bo', Year1_df.Month, Year1_df.Sales_in_CAD, 'ko', \n",
    "         Year3_df.Month, Year3_df.Sales_in_CAD, 'ro')\n",
    "\n"
   ]
  },
  {
   "cell_type": "markdown",
   "metadata": {},
   "source": [
    "We can now run a statistical analysis on this data. We can run the ANOVA test, which searches for differences in more than 2 groups. "
   ]
  },
  {
   "cell_type": "markdown",
   "metadata": {},
   "source": [
    "#PLOT3: Creating a boxplot that shows the distribution of sales across all fields, also showing how large individual Sales were. This will be done for all years combined first. "
   ]
  },
  {
   "cell_type": "code",
   "execution_count": null,
   "metadata": {
    "collapsed": false
   },
   "outputs": [],
   "source": [
    "# Groupby Field and Sales_in_CAD to keep each sales order seperate so we can later plot a boxplot which shows\n",
    "# the distribution of sales. \n",
    "resampled_groups = Exchange_df.groupby(['Field', 'Sales_in_CAD']).sum()\n",
    "resampled_groups.head()"
   ]
  },
  {
   "cell_type": "code",
   "execution_count": null,
   "metadata": {
    "collapsed": true
   },
   "outputs": [],
   "source": [
    "# Resetting the index columns in order to plot \n",
    "resampled1_groups = resampled_groups.reset_index()"
   ]
  },
  {
   "cell_type": "code",
   "execution_count": null,
   "metadata": {
    "collapsed": false
   },
   "outputs": [],
   "source": [
    "plt.violinplot(resampled1_groups)"
   ]
  },
  {
   "cell_type": "code",
   "execution_count": null,
   "metadata": {
    "collapsed": false
   },
   "outputs": [],
   "source": [
    "# Violin plot of all Sales in CAD\n",
    "plt.violinplot(resampled1_groups['Sales_in_CAD'])"
   ]
  },
  {
   "cell_type": "code",
   "execution_count": null,
   "metadata": {
    "collapsed": false
   },
   "outputs": [],
   "source": [
    "#Creating a boxplot of Sales according to the field a customer works in. This plot is for all years (2010 - 2015) combined\n",
    "resampled1_groups.boxplot(by = 'Field', column='Sales_in_CAD', figsize=(25,10))\n",
    "\n",
    "#Changing the y limit\n",
    "plt.ylim(0, 40000)\n",
    "\n",
    "plt.title('Sales to Customers according to Field (Years: 2010 - 2015)')\n",
    "plt.xlabel('Field of Customer')\n",
    "plt.ylabel('Sales in CAD')\n"
   ]
  },
  {
   "cell_type": "code",
   "execution_count": null,
   "metadata": {
    "collapsed": true
   },
   "outputs": [],
   "source": []
  },
  {
   "cell_type": "markdown",
   "metadata": {
    "collapsed": true
   },
   "source": [
    "Now I am trying to seperate each string in the Field column to create seperate plots, that will show the difference in sales in each years to see if there are any visible trends in any fields over the years. I would like to use a function for this to make it most efficient. \n"
   ]
  },
  {
   "cell_type": "code",
   "execution_count": null,
   "metadata": {
    "collapsed": false
   },
   "outputs": [],
   "source": [
    "# Creating a new table that contains only the columns that we need to create seperate plots for each field\n",
    "Reset_ind = Exchange_df.reset_index()\n",
    "Fields_df = Reset_ind[['Date_of_Order', 'Field', 'New_or_Returning', 'Sales_in_CAD']]\n",
    "Fields_df.head()"
   ]
  },
  {
   "cell_type": "code",
   "execution_count": null,
   "metadata": {
    "collapsed": false
   },
   "outputs": [],
   "source": [
    "# Trying to downsample data to business year, but it downsamples to year. \n",
    "Aerospace_an = aerospace_df.resample('BA', how=('sum'))  "
   ]
  },
  {
   "cell_type": "code",
   "execution_count": null,
   "metadata": {
    "collapsed": true
   },
   "outputs": [],
   "source": []
  },
  {
   "cell_type": "code",
   "execution_count": null,
   "metadata": {
    "collapsed": true
   },
   "outputs": [],
   "source": [
    "# Creating a variable that contains all the names of the fields in the Field column\n",
    "Fields = ['aerospace', 'oil & gas', 'alternative energy', 'engine technology', 'construction', 'research', 'water systems', 'distributor', 'solutions provider', 'other', 'instrumentation manufacturer', 'valve manufacturer', 'material science', 'chemical', 'food', 'health']"
   ]
  },
  {
   "cell_type": "code",
   "execution_count": null,
   "metadata": {
    "collapsed": false
   },
   "outputs": [],
   "source": [
    "# Creating a dictionary that will contain each field seperately, so you can call each field with the dictionary\n",
    "dic = {}\n",
    "\n",
    "# Creating a FOR loop that will groupby a specified field in the field column of a dataframe.\n",
    "for field in Fields:\n",
    "    dic[field] = Fields_df.groupby(['Field']).get_group(field)"
   ]
  },
  {
   "cell_type": "code",
   "execution_count": null,
   "metadata": {
    "collapsed": false
   },
   "outputs": [],
   "source": [
    "# Creating a variable for each field\n",
    "research_df = dic['research']\n",
    "oilgas_df = dic['oil & gas']\n",
    "alternative_df = dic['alternative energy']\n"
   ]
  },
  {
   "cell_type": "code",
   "execution_count": null,
   "metadata": {
    "collapsed": false
   },
   "outputs": [],
   "source": [
    "# Defining a function that will plot from a dataframe. The function takes in the two columns from a dataframe,\n",
    "# that will be plotted on the x and y axis. \n",
    "def plot(x, y):\n",
    "    plt.figure(figsize=(10,3))\n",
    "    plt.plot(x, y, marker='o', linewidth=0)\n",
    "    plt.ylim(-1000,)"
   ]
  },
  {
   "cell_type": "markdown",
   "metadata": {},
   "source": [
    "Now I am trying to find which fields are interesting to look at. Which fields show interesting trends/fluctuations in sales. I plotted all fields using the plot function, however i only kept the fields which showed an interesting trend. "
   ]
  },
  {
   "cell_type": "code",
   "execution_count": null,
   "metadata": {
    "collapsed": false
   },
   "outputs": [],
   "source": [
    "plot(dic['oil & gas']['Date_of_Order'], dic['oil & gas']['Sales_in_CAD'])"
   ]
  },
  {
   "cell_type": "code",
   "execution_count": null,
   "metadata": {
    "collapsed": false
   },
   "outputs": [],
   "source": [
    "plot(dic['aerospace']['Date_of_Order'], dic['aerospace']['Sales_in_CAD'])"
   ]
  },
  {
   "cell_type": "code",
   "execution_count": null,
   "metadata": {
    "collapsed": false
   },
   "outputs": [],
   "source": [
    "plot(dic['water systems']['Date_of_Order'], dic['water systems']['Sales_in_CAD'])"
   ]
  },
  {
   "cell_type": "code",
   "execution_count": null,
   "metadata": {
    "collapsed": false
   },
   "outputs": [],
   "source": [
    "plot(dic['chemical']['Date_of_Order'], dic['chemical']['Sales_in_CAD'])"
   ]
  },
  {
   "cell_type": "code",
   "execution_count": null,
   "metadata": {
    "collapsed": false
   },
   "outputs": [],
   "source": [
    "plot(dic['material science']['Date_of_Order'], dic['material science']['Sales_in_CAD'])"
   ]
  },
  {
   "cell_type": "code",
   "execution_count": null,
   "metadata": {
    "collapsed": false
   },
   "outputs": [],
   "source": [
    "# Trying to make a function that takes out rows per business year from a dataframe\n",
    "def businessyear(SalesData):\n",
    "    '''Extracts all dates in a specific business year from a dataset,\n",
    "    to create a new dataframe with just this year'''\n",
    "    # Opening the data in the function\n",
    "    # The r means read file\n",
    "    with open (SalesData, 'r') as mySalesData:\n",
    "        #Reading all of the lines in the dataframe\n",
    "        file = mySalesData.readlines()\n",
    "        \n",
    "        # This creates a variable of the Date column\n",
    "        dates = file.Date\n",
    "        \n",
    "        if dates == 2010:\n",
    "            return ('You suck')"
   ]
  },
  {
   "cell_type": "code",
   "execution_count": null,
   "metadata": {
    "collapsed": false
   },
   "outputs": [],
   "source": [
    "# Trying to resample by Business Annual, but its giving me annual and not business year..\n",
    "Annual = Exchange_df.resample('BA', how=('sum'))   \n",
    "Annual"
   ]
  },
  {
   "cell_type": "markdown",
   "metadata": {},
   "source": [
    "#PLOT4: Creating a plot that shows sales to returning customers vs. Sales to new customers, to help determine whether it is more important to invest money in ads to target new customers, or to maintain old customers. "
   ]
  },
  {
   "cell_type": "code",
   "execution_count": null,
   "metadata": {
    "collapsed": false
   },
   "outputs": [],
   "source": [
    "# Grabbing 2 columns from a previously cleaned data set (Change_New) \n",
    "Customers_df = Change_New[['Sales_in_CAD', 'New_or_Returning']]\n",
    "Customers_df.head()"
   ]
  },
  {
   "cell_type": "code",
   "execution_count": null,
   "metadata": {
    "collapsed": false
   },
   "outputs": [],
   "source": [
    "# Creating a boxplot of New versus Returning customer Sales.\n",
    "Customers_df.boxplot(by = 'New_or_Returning', column='Sales_in_CAD', figsize=(10,7))\n",
    "plt.ylim(0, 45000)\n",
    "plt.title('Sales to New vs. Returning customers from 2010 - 2015')\n",
    "plt.xlabel('Type of Customer')\n",
    "plt.ylabel('Sales in CAD')\n"
   ]
  },
  {
   "cell_type": "code",
   "execution_count": null,
   "metadata": {
    "collapsed": false
   },
   "outputs": [],
   "source": [
    "# Getting the columns New or Returning and Sales in CAD with the Date of Order to get \n",
    "# the amount of sales over time \n",
    "Type_date = Exchange_df[['New_or_Returning', 'Sales_in_CAD']]\n",
    "Type_date.head()"
   ]
  },
  {
   "cell_type": "code",
   "execution_count": null,
   "metadata": {
    "collapsed": false
   },
   "outputs": [],
   "source": [
    "# Creating a dataframe of just Returning customers\n",
    "Returning_df = Type_date.groupby(['New_or_Returning']).get_group('Returning ').reset_index()\n",
    "Returning_df.head()"
   ]
  },
  {
   "cell_type": "code",
   "execution_count": null,
   "metadata": {
    "collapsed": false
   },
   "outputs": [],
   "source": [
    "# Creating a dataframe of only new customers\n",
    "New_df = Type_date.groupby(['New_or_Returning']).get_group('New').reset_index()\n",
    "New_df.head()"
   ]
  },
  {
   "cell_type": "code",
   "execution_count": null,
   "metadata": {
    "collapsed": false
   },
   "outputs": [],
   "source": [
    "# Making a plot to compare Sales from New and Returning customers over time\n",
    "plt.figure(figsize = (15,8))\n",
    "plt.plot(New_df.Date_of_Order, New_df.Sales_in_CAD, 'ro', Returning_df.Date_of_Order, Returning_df.Sales_in_CAD, 'go')\n",
    "plt.ylim(-500, 50000)\n",
    "\n",
    "plt.ylabel('Sales in CAD')\n",
    "plt.title ('Sales to Returning customers vs. New customers over time')"
   ]
  },
  {
   "cell_type": "markdown",
   "metadata": {
    "collapsed": true
   },
   "source": [
    "On this data, we can run an unpaired/ student's t - test to see whether sales to new customers and sales to returning customers are significantly different. "
   ]
  },
  {
   "cell_type": "code",
   "execution_count": null,
   "metadata": {
    "collapsed": true
   },
   "outputs": [],
   "source": [
    "def variance(columnname, n):\n",
    "    '''assignes function to calculate the \n",
    "    standard error of a list or numpy array'''\n",
    "    mean = sum(columnname)/n                        # creating a variable for the mean of the list/array\n",
    "    std_part_1 = sum([(num-mean)**2 for num in columnname]) # creating a variable for the first caclulation of the standard deviation\n",
    "    var = std_part_1/(n-1)         # Completing the standard deviation calculation \n",
    "    return(var)\n"
   ]
  },
  {
   "cell_type": "code",
   "execution_count": null,
   "metadata": {
    "collapsed": false
   },
   "outputs": [],
   "source": [
    "variance(New_df.Sales_in_CAD, len(New_df.Sales_in_CAD))"
   ]
  },
  {
   "cell_type": "code",
   "execution_count": null,
   "metadata": {
    "collapsed": false
   },
   "outputs": [],
   "source": [
    "variance(Returning_df.Sales_in_CAD, len(Returning_df.Sales_in_CAD))"
   ]
  },
  {
   "cell_type": "code",
   "execution_count": null,
   "metadata": {
    "collapsed": false
   },
   "outputs": [],
   "source": [
    "# Running the t-test on the variance calculations of the new and returning customers\n",
    "rvs1 = stats.norm.rvs(loc=92576890.092929989,scale=0.1,size=500)\n",
    "rvs2 = stats.norm.rvs(loc=242523522.74525771,scale=0.2,size=500)\n",
    "stats.ttest_ind(rvs1,rvs2)"
   ]
  },
  {
   "cell_type": "markdown",
   "metadata": {},
   "source": [
    "The obtained p-value is 0.0, which means that the two variables (New and Returning Customers) are significantly different. This means that there is aboslutely no chance of an outside variable to create the differences between these two variables. "
   ]
  },
  {
   "cell_type": "markdown",
   "metadata": {},
   "source": [
    "We can also plot a line of best fit for each variable to compare the two. "
   ]
  },
  {
   "cell_type": "code",
   "execution_count": null,
   "metadata": {
    "collapsed": false
   },
   "outputs": [],
   "source": [
    "lm = sm.formula.ols(formula='Sales_in_CAD ~ Date_of_Order', data = New_df).fit() \n",
    "lm.params"
   ]
  },
  {
   "cell_type": "code",
   "execution_count": null,
   "metadata": {
    "collapsed": true
   },
   "outputs": [],
   "source": [
    "x_new = pd.DataFrame({'Date_of_Order' : range(1,700)})"
   ]
  },
  {
   "cell_type": "code",
   "execution_count": null,
   "metadata": {
    "collapsed": true
   },
   "outputs": [],
   "source": []
  },
  {
   "cell_type": "code",
   "execution_count": null,
   "metadata": {
    "collapsed": true
   },
   "outputs": [],
   "source": []
  }
 ],
 "metadata": {
  "kernelspec": {
   "display_name": "Python 3",
   "language": "python",
   "name": "python3"
  },
  "language_info": {
   "codemirror_mode": {
    "name": "ipython",
    "version": 3
   },
   "file_extension": ".py",
   "mimetype": "text/x-python",
   "name": "python",
   "nbconvert_exporter": "python",
   "pygments_lexer": "ipython3",
   "version": "3.4.3"
  }
 },
 "nbformat": 4,
 "nbformat_minor": 0
}
