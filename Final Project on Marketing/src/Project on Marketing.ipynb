{
 "cells": [
  {
   "cell_type": "code",
   "execution_count": 1,
   "metadata": {
    "collapsed": false
   },
   "outputs": [],
   "source": [
    "# Import Libraries\n",
    "import pandas as pd\n",
    "import numpy as np\n",
    "import xlsxwriter\n",
    "import matplotlib.pyplot as plt\n",
    "\n",
    "#show plot in notebook\n",
    "%matplotlib inline \n",
    "\n",
    "#limits amount of lines pandas prints out\n",
    "from pandas import set_option \n",
    "set_option('display.max_rows', 10)"
   ]
  },
  {
   "cell_type": "markdown",
   "metadata": {},
   "source": [
    "# Importing and Cleaning Data"
   ]
  },
  {
   "cell_type": "code",
   "execution_count": 2,
   "metadata": {
    "collapsed": false
   },
   "outputs": [
    {
     "data": {
      "text/html": [
       "<div>\n",
       "<table border=\"1\" class=\"dataframe\">\n",
       "  <thead>\n",
       "    <tr style=\"text-align: right;\">\n",
       "      <th></th>\n",
       "      <th>Exchange Rate</th>\n",
       "      <th>Customer</th>\n",
       "      <th>Field</th>\n",
       "      <th>Date of Order</th>\n",
       "      <th>Total Sales</th>\n",
       "      <th>Year of First Order</th>\n",
       "      <th>New/Returning Customer</th>\n",
       "    </tr>\n",
       "  </thead>\n",
       "  <tbody>\n",
       "    <tr>\n",
       "      <th>0</th>\n",
       "      <td>1.2563</td>\n",
       "      <td>3M Maplewood</td>\n",
       "      <td>solutions provider</td>\n",
       "      <td>2015-04-13</td>\n",
       "      <td>3267.00</td>\n",
       "      <td>2009</td>\n",
       "      <td>Returning</td>\n",
       "    </tr>\n",
       "    <tr>\n",
       "      <th>1</th>\n",
       "      <td>1.2188</td>\n",
       "      <td>ABB Australia Pty Limited</td>\n",
       "      <td>engine technology</td>\n",
       "      <td>2015-05-21</td>\n",
       "      <td>480.00</td>\n",
       "      <td>2008</td>\n",
       "      <td>Returning</td>\n",
       "    </tr>\n",
       "    <tr>\n",
       "      <th>2</th>\n",
       "      <td>1.1800</td>\n",
       "      <td>Accutech Instrumentation</td>\n",
       "      <td>distributor</td>\n",
       "      <td>2015-01-13</td>\n",
       "      <td>18990.40</td>\n",
       "      <td>2013</td>\n",
       "      <td>Returning</td>\n",
       "    </tr>\n",
       "    <tr>\n",
       "      <th>3</th>\n",
       "      <td>1.0000</td>\n",
       "      <td>Advanced Engine Technology</td>\n",
       "      <td>engine technology</td>\n",
       "      <td>2015-06-23</td>\n",
       "      <td>7330.92</td>\n",
       "      <td>2008</td>\n",
       "      <td>Returning</td>\n",
       "    </tr>\n",
       "    <tr>\n",
       "      <th>4</th>\n",
       "      <td>1.1894</td>\n",
       "      <td>Agronova</td>\n",
       "      <td>food</td>\n",
       "      <td>2015-01-12</td>\n",
       "      <td>1746.00</td>\n",
       "      <td>2005</td>\n",
       "      <td>Returning</td>\n",
       "    </tr>\n",
       "    <tr>\n",
       "      <th>...</th>\n",
       "      <td>...</td>\n",
       "      <td>...</td>\n",
       "      <td>...</td>\n",
       "      <td>...</td>\n",
       "      <td>...</td>\n",
       "      <td>...</td>\n",
       "      <td>...</td>\n",
       "    </tr>\n",
       "    <tr>\n",
       "      <th>747</th>\n",
       "      <td>1.0000</td>\n",
       "      <td>Weatherford</td>\n",
       "      <td>oil &amp; gas</td>\n",
       "      <td>2014-03-18</td>\n",
       "      <td>1736.47</td>\n",
       "      <td>2013-11-01 00:00:00</td>\n",
       "      <td>New</td>\n",
       "    </tr>\n",
       "    <tr>\n",
       "      <th>748</th>\n",
       "      <td>1.0000</td>\n",
       "      <td>Weatherford</td>\n",
       "      <td>oil &amp; gas</td>\n",
       "      <td>2014-03-19</td>\n",
       "      <td>1803.00</td>\n",
       "      <td>2013-11-01 00:00:00</td>\n",
       "      <td>New</td>\n",
       "    </tr>\n",
       "    <tr>\n",
       "      <th>749</th>\n",
       "      <td>1.0000</td>\n",
       "      <td>Weatherford</td>\n",
       "      <td>oil &amp; gas</td>\n",
       "      <td>2014-05-02</td>\n",
       "      <td>213.00</td>\n",
       "      <td>2013-11-01 00:00:00</td>\n",
       "      <td>New</td>\n",
       "    </tr>\n",
       "    <tr>\n",
       "      <th>750</th>\n",
       "      <td>1.0000</td>\n",
       "      <td>Weatherford</td>\n",
       "      <td>oil &amp; gas</td>\n",
       "      <td>2014-05-02</td>\n",
       "      <td>3462.00</td>\n",
       "      <td>2013-11-01 00:00:00</td>\n",
       "      <td>New</td>\n",
       "    </tr>\n",
       "    <tr>\n",
       "      <th>751</th>\n",
       "      <td>1.0000</td>\n",
       "      <td>Weatherford</td>\n",
       "      <td>oil &amp; gas</td>\n",
       "      <td>2014-07-02</td>\n",
       "      <td>4807.00</td>\n",
       "      <td>2013-11-01 00:00:00</td>\n",
       "      <td>New</td>\n",
       "    </tr>\n",
       "  </tbody>\n",
       "</table>\n",
       "<p>752 rows × 7 columns</p>\n",
       "</div>"
      ],
      "text/plain": [
       "     Exchange Rate                     Customer               Field  \\\n",
       "0           1.2563                 3M Maplewood  solutions provider   \n",
       "1           1.2188    ABB Australia Pty Limited   engine technology   \n",
       "2           1.1800     Accutech Instrumentation         distributor   \n",
       "3           1.0000  Advanced Engine Technology   engine technology    \n",
       "4           1.1894                    Agronova                 food   \n",
       "..             ...                          ...                 ...   \n",
       "747         1.0000                  Weatherford           oil & gas   \n",
       "748         1.0000                  Weatherford           oil & gas   \n",
       "749         1.0000                  Weatherford           oil & gas   \n",
       "750         1.0000                  Weatherford           oil & gas   \n",
       "751         1.0000                  Weatherford           oil & gas   \n",
       "\n",
       "    Date of Order  Total Sales  Year of First Order New/Returning Customer  \n",
       "0      2015-04-13      3267.00                 2009             Returning   \n",
       "1      2015-05-21       480.00                 2008             Returning   \n",
       "2      2015-01-13     18990.40                 2013             Returning   \n",
       "3      2015-06-23      7330.92                 2008             Returning   \n",
       "4      2015-01-12      1746.00                 2005              Returning  \n",
       "..            ...          ...                  ...                    ...  \n",
       "747    2014-03-18      1736.47  2013-11-01 00:00:00                    New  \n",
       "748    2014-03-19      1803.00  2013-11-01 00:00:00                    New  \n",
       "749    2014-05-02       213.00  2013-11-01 00:00:00                    New  \n",
       "750    2014-05-02      3462.00  2013-11-01 00:00:00                    New  \n",
       "751    2014-07-02      4807.00  2013-11-01 00:00:00                    New  \n",
       "\n",
       "[752 rows x 7 columns]"
      ]
     },
     "execution_count": 2,
     "metadata": {},
     "output_type": "execute_result"
    }
   ],
   "source": [
    "#Loading the main dataset from excel into python, specified taking data from the 'Sales' sheet\n",
    "Sales_df = pd.read_excel('../data/Sales Data11.xlsm', sheetname = 'Sales')\n",
    "Sales_df"
   ]
  },
  {
   "cell_type": "code",
   "execution_count": 3,
   "metadata": {
    "collapsed": false
   },
   "outputs": [],
   "source": [
    "# Renaming the columns \n",
    "Sales_df.columns = [['Exchange_Rate', 'Customer', 'Field', 'Date_of_Order', 'Total_Sales', 'Year_of_First_Order', 'New_or_Returning']]"
   ]
  },
  {
   "cell_type": "code",
   "execution_count": 4,
   "metadata": {
    "collapsed": false
   },
   "outputs": [
    {
     "data": {
      "text/html": [
       "<div>\n",
       "<table border=\"1\" class=\"dataframe\">\n",
       "  <thead>\n",
       "    <tr style=\"text-align: right;\">\n",
       "      <th></th>\n",
       "      <th>Exchange_Rate</th>\n",
       "      <th>Customer</th>\n",
       "      <th>Field</th>\n",
       "      <th>Date_of_Order</th>\n",
       "      <th>Total_Sales</th>\n",
       "      <th>Year_of_First_Order</th>\n",
       "      <th>New_or_Returning</th>\n",
       "    </tr>\n",
       "  </thead>\n",
       "  <tbody>\n",
       "    <tr>\n",
       "      <th>0</th>\n",
       "      <td>1.2563</td>\n",
       "      <td>3M Maplewood</td>\n",
       "      <td>solutions provider</td>\n",
       "      <td>2015-04-13</td>\n",
       "      <td>3267.00</td>\n",
       "      <td>2009</td>\n",
       "      <td>Returning</td>\n",
       "    </tr>\n",
       "    <tr>\n",
       "      <th>1</th>\n",
       "      <td>1.2188</td>\n",
       "      <td>ABB Australia Pty Limited</td>\n",
       "      <td>engine technology</td>\n",
       "      <td>2015-05-21</td>\n",
       "      <td>480.00</td>\n",
       "      <td>2008</td>\n",
       "      <td>Returning</td>\n",
       "    </tr>\n",
       "    <tr>\n",
       "      <th>2</th>\n",
       "      <td>1.1800</td>\n",
       "      <td>Accutech Instrumentation</td>\n",
       "      <td>distributor</td>\n",
       "      <td>2015-01-13</td>\n",
       "      <td>18990.40</td>\n",
       "      <td>2013</td>\n",
       "      <td>Returning</td>\n",
       "    </tr>\n",
       "    <tr>\n",
       "      <th>3</th>\n",
       "      <td>1.0000</td>\n",
       "      <td>Advanced Engine Technology</td>\n",
       "      <td>engine technology</td>\n",
       "      <td>2015-06-23</td>\n",
       "      <td>7330.92</td>\n",
       "      <td>2008</td>\n",
       "      <td>Returning</td>\n",
       "    </tr>\n",
       "    <tr>\n",
       "      <th>4</th>\n",
       "      <td>1.1894</td>\n",
       "      <td>Agronova</td>\n",
       "      <td>food</td>\n",
       "      <td>2015-01-12</td>\n",
       "      <td>1746.00</td>\n",
       "      <td>2005</td>\n",
       "      <td>Returning</td>\n",
       "    </tr>\n",
       "  </tbody>\n",
       "</table>\n",
       "</div>"
      ],
      "text/plain": [
       "   Exchange_Rate                     Customer               Field  \\\n",
       "0         1.2563                 3M Maplewood  solutions provider   \n",
       "1         1.2188    ABB Australia Pty Limited   engine technology   \n",
       "2         1.1800     Accutech Instrumentation         distributor   \n",
       "3         1.0000  Advanced Engine Technology   engine technology    \n",
       "4         1.1894                    Agronova                 food   \n",
       "\n",
       "  Date_of_Order  Total_Sales Year_of_First_Order New_or_Returning  \n",
       "0    2015-04-13      3267.00                2009       Returning   \n",
       "1    2015-05-21       480.00                2008       Returning   \n",
       "2    2015-01-13     18990.40                2013       Returning   \n",
       "3    2015-06-23      7330.92                2008       Returning   \n",
       "4    2015-01-12      1746.00                2005        Returning  "
      ]
     },
     "execution_count": 4,
     "metadata": {},
     "output_type": "execute_result"
    }
   ],
   "source": [
    "# Replacing the empty values in the Exchange Rate column with 1. \n",
    "Sales_df1 = Sales_df[['Exchange_Rate', 'Customer', 'Field', 'Date_of_Order', 'Total_Sales', 'Year_of_First_Order', 'New_or_Returning']].replace([None], [1])\n",
    "Sales_df1.head()"
   ]
  },
  {
   "cell_type": "code",
   "execution_count": 5,
   "metadata": {
    "collapsed": false
   },
   "outputs": [
    {
     "data": {
      "text/html": [
       "<div>\n",
       "<table border=\"1\" class=\"dataframe\">\n",
       "  <thead>\n",
       "    <tr style=\"text-align: right;\">\n",
       "      <th></th>\n",
       "      <th>Exchange_Rate</th>\n",
       "      <th>Customer</th>\n",
       "      <th>Field</th>\n",
       "      <th>Date_of_Order</th>\n",
       "      <th>Total_Sales</th>\n",
       "      <th>Year_of_First_Order</th>\n",
       "      <th>New_or_Returning</th>\n",
       "      <th>Sales_in_CAD</th>\n",
       "    </tr>\n",
       "  </thead>\n",
       "  <tbody>\n",
       "    <tr>\n",
       "      <th>0</th>\n",
       "      <td>1.2563</td>\n",
       "      <td>3M Maplewood</td>\n",
       "      <td>solutions provider</td>\n",
       "      <td>2015-04-13</td>\n",
       "      <td>3267.00</td>\n",
       "      <td>2009</td>\n",
       "      <td>Returning</td>\n",
       "      <td>4104.3321</td>\n",
       "    </tr>\n",
       "    <tr>\n",
       "      <th>1</th>\n",
       "      <td>1.2188</td>\n",
       "      <td>ABB Australia Pty Limited</td>\n",
       "      <td>engine technology</td>\n",
       "      <td>2015-05-21</td>\n",
       "      <td>480.00</td>\n",
       "      <td>2008</td>\n",
       "      <td>Returning</td>\n",
       "      <td>585.0240</td>\n",
       "    </tr>\n",
       "    <tr>\n",
       "      <th>2</th>\n",
       "      <td>1.1800</td>\n",
       "      <td>Accutech Instrumentation</td>\n",
       "      <td>distributor</td>\n",
       "      <td>2015-01-13</td>\n",
       "      <td>18990.40</td>\n",
       "      <td>2013</td>\n",
       "      <td>Returning</td>\n",
       "      <td>22408.6720</td>\n",
       "    </tr>\n",
       "    <tr>\n",
       "      <th>3</th>\n",
       "      <td>1.0000</td>\n",
       "      <td>Advanced Engine Technology</td>\n",
       "      <td>engine technology</td>\n",
       "      <td>2015-06-23</td>\n",
       "      <td>7330.92</td>\n",
       "      <td>2008</td>\n",
       "      <td>Returning</td>\n",
       "      <td>7330.9200</td>\n",
       "    </tr>\n",
       "    <tr>\n",
       "      <th>4</th>\n",
       "      <td>1.1894</td>\n",
       "      <td>Agronova</td>\n",
       "      <td>food</td>\n",
       "      <td>2015-01-12</td>\n",
       "      <td>1746.00</td>\n",
       "      <td>2005</td>\n",
       "      <td>Returning</td>\n",
       "      <td>2076.6924</td>\n",
       "    </tr>\n",
       "  </tbody>\n",
       "</table>\n",
       "</div>"
      ],
      "text/plain": [
       "   Exchange_Rate                     Customer               Field  \\\n",
       "0         1.2563                 3M Maplewood  solutions provider   \n",
       "1         1.2188    ABB Australia Pty Limited   engine technology   \n",
       "2         1.1800     Accutech Instrumentation         distributor   \n",
       "3         1.0000  Advanced Engine Technology   engine technology    \n",
       "4         1.1894                    Agronova                 food   \n",
       "\n",
       "  Date_of_Order  Total_Sales Year_of_First_Order New_or_Returning  \\\n",
       "0    2015-04-13      3267.00                2009       Returning    \n",
       "1    2015-05-21       480.00                2008       Returning    \n",
       "2    2015-01-13     18990.40                2013       Returning    \n",
       "3    2015-06-23      7330.92                2008       Returning    \n",
       "4    2015-01-12      1746.00                2005        Returning   \n",
       "\n",
       "   Sales_in_CAD  \n",
       "0     4104.3321  \n",
       "1      585.0240  \n",
       "2    22408.6720  \n",
       "3     7330.9200  \n",
       "4     2076.6924  "
      ]
     },
     "execution_count": 5,
     "metadata": {},
     "output_type": "execute_result"
    }
   ],
   "source": [
    "# Creating a new column in the data set, which puts all sales amounts in Canadian dollars. \n",
    "Sales_df1['Sales_in_CAD'] = Sales_df1['Exchange_Rate'] * Sales_df1['Total_Sales'] \n",
    "Sales_df1.head()"
   ]
  },
  {
   "cell_type": "markdown",
   "metadata": {},
   "source": [
    "# PLOT 1: Resampling data to make a plot that compares money spent on ads per month to sales coming from new customers & number of new customers."
   ]
  },
  {
   "cell_type": "code",
   "execution_count": 8,
   "metadata": {
    "collapsed": false
   },
   "outputs": [
    {
     "data": {
      "text/html": [
       "<div>\n",
       "<table border=\"1\" class=\"dataframe\">\n",
       "  <thead>\n",
       "    <tr style=\"text-align: right;\">\n",
       "      <th></th>\n",
       "      <th>Exchange_Rate</th>\n",
       "      <th>Customer</th>\n",
       "      <th>Field</th>\n",
       "      <th>Date_of_Order</th>\n",
       "      <th>Total_Sales</th>\n",
       "      <th>Year_of_First_Order</th>\n",
       "      <th>New_or_Returning</th>\n",
       "      <th>Sales_in_CAD</th>\n",
       "    </tr>\n",
       "  </thead>\n",
       "  <tbody>\n",
       "    <tr>\n",
       "      <th>228</th>\n",
       "      <td>1.2524</td>\n",
       "      <td>Advanced Analytical Technologies</td>\n",
       "      <td>chemical</td>\n",
       "      <td>2015-01-29</td>\n",
       "      <td>754.00</td>\n",
       "      <td>2015</td>\n",
       "      <td>New</td>\n",
       "      <td>944.30960</td>\n",
       "    </tr>\n",
       "    <tr>\n",
       "      <th>229</th>\n",
       "      <td>1.2457</td>\n",
       "      <td>Advanced Research Chemicals</td>\n",
       "      <td>chemical</td>\n",
       "      <td>2015-03-06</td>\n",
       "      <td>1621.00</td>\n",
       "      <td>2015</td>\n",
       "      <td>New</td>\n",
       "      <td>2019.27970</td>\n",
       "    </tr>\n",
       "    <tr>\n",
       "      <th>230</th>\n",
       "      <td>1.2103</td>\n",
       "      <td>Argen Polymer</td>\n",
       "      <td>material science</td>\n",
       "      <td>2015-04-24</td>\n",
       "      <td>3435.00</td>\n",
       "      <td>2015</td>\n",
       "      <td>New</td>\n",
       "      <td>4157.38050</td>\n",
       "    </tr>\n",
       "    <tr>\n",
       "      <th>231</th>\n",
       "      <td>1.2539</td>\n",
       "      <td>Attilla Cziko Rosa</td>\n",
       "      <td>food</td>\n",
       "      <td>2015-02-23</td>\n",
       "      <td>1586.40</td>\n",
       "      <td>2015</td>\n",
       "      <td>New</td>\n",
       "      <td>1989.18696</td>\n",
       "    </tr>\n",
       "    <tr>\n",
       "      <th>232</th>\n",
       "      <td>1.0000</td>\n",
       "      <td>Avon Fluid Systems Tech</td>\n",
       "      <td>valve manufacturer</td>\n",
       "      <td>2014-09-10</td>\n",
       "      <td>6220.20</td>\n",
       "      <td>2014-09-01 00:00:00</td>\n",
       "      <td>New</td>\n",
       "      <td>6220.20000</td>\n",
       "    </tr>\n",
       "    <tr>\n",
       "      <th>...</th>\n",
       "      <td>...</td>\n",
       "      <td>...</td>\n",
       "      <td>...</td>\n",
       "      <td>...</td>\n",
       "      <td>...</td>\n",
       "      <td>...</td>\n",
       "      <td>...</td>\n",
       "      <td>...</td>\n",
       "    </tr>\n",
       "    <tr>\n",
       "      <th>747</th>\n",
       "      <td>1.0000</td>\n",
       "      <td>Weatherford</td>\n",
       "      <td>oil &amp; gas</td>\n",
       "      <td>2014-03-18</td>\n",
       "      <td>1736.47</td>\n",
       "      <td>2013-11-01 00:00:00</td>\n",
       "      <td>New</td>\n",
       "      <td>1736.47000</td>\n",
       "    </tr>\n",
       "    <tr>\n",
       "      <th>748</th>\n",
       "      <td>1.0000</td>\n",
       "      <td>Weatherford</td>\n",
       "      <td>oil &amp; gas</td>\n",
       "      <td>2014-03-19</td>\n",
       "      <td>1803.00</td>\n",
       "      <td>2013-11-01 00:00:00</td>\n",
       "      <td>New</td>\n",
       "      <td>1803.00000</td>\n",
       "    </tr>\n",
       "    <tr>\n",
       "      <th>749</th>\n",
       "      <td>1.0000</td>\n",
       "      <td>Weatherford</td>\n",
       "      <td>oil &amp; gas</td>\n",
       "      <td>2014-05-02</td>\n",
       "      <td>213.00</td>\n",
       "      <td>2013-11-01 00:00:00</td>\n",
       "      <td>New</td>\n",
       "      <td>213.00000</td>\n",
       "    </tr>\n",
       "    <tr>\n",
       "      <th>750</th>\n",
       "      <td>1.0000</td>\n",
       "      <td>Weatherford</td>\n",
       "      <td>oil &amp; gas</td>\n",
       "      <td>2014-05-02</td>\n",
       "      <td>3462.00</td>\n",
       "      <td>2013-11-01 00:00:00</td>\n",
       "      <td>New</td>\n",
       "      <td>3462.00000</td>\n",
       "    </tr>\n",
       "    <tr>\n",
       "      <th>751</th>\n",
       "      <td>1.0000</td>\n",
       "      <td>Weatherford</td>\n",
       "      <td>oil &amp; gas</td>\n",
       "      <td>2014-07-02</td>\n",
       "      <td>4807.00</td>\n",
       "      <td>2013-11-01 00:00:00</td>\n",
       "      <td>New</td>\n",
       "      <td>4807.00000</td>\n",
       "    </tr>\n",
       "  </tbody>\n",
       "</table>\n",
       "<p>334 rows × 8 columns</p>\n",
       "</div>"
      ],
      "text/plain": [
       "     Exchange_Rate                          Customer               Field  \\\n",
       "228         1.2524  Advanced Analytical Technologies            chemical   \n",
       "229         1.2457      Advanced Research Chemicals            chemical    \n",
       "230         1.2103                     Argen Polymer   material science    \n",
       "231         1.2539                Attilla Cziko Rosa                food   \n",
       "232         1.0000           Avon Fluid Systems Tech  valve manufacturer   \n",
       "..             ...                               ...                 ...   \n",
       "747         1.0000                       Weatherford           oil & gas   \n",
       "748         1.0000                       Weatherford           oil & gas   \n",
       "749         1.0000                       Weatherford           oil & gas   \n",
       "750         1.0000                       Weatherford           oil & gas   \n",
       "751         1.0000                       Weatherford           oil & gas   \n",
       "\n",
       "    Date_of_Order  Total_Sales  Year_of_First_Order New_or_Returning  \\\n",
       "228    2015-01-29       754.00                 2015              New   \n",
       "229    2015-03-06      1621.00                 2015              New   \n",
       "230    2015-04-24      3435.00                 2015              New   \n",
       "231    2015-02-23      1586.40                 2015              New   \n",
       "232    2014-09-10      6220.20  2014-09-01 00:00:00              New   \n",
       "..            ...          ...                  ...              ...   \n",
       "747    2014-03-18      1736.47  2013-11-01 00:00:00              New   \n",
       "748    2014-03-19      1803.00  2013-11-01 00:00:00              New   \n",
       "749    2014-05-02       213.00  2013-11-01 00:00:00              New   \n",
       "750    2014-05-02      3462.00  2013-11-01 00:00:00              New   \n",
       "751    2014-07-02      4807.00  2013-11-01 00:00:00              New   \n",
       "\n",
       "     Sales_in_CAD  \n",
       "228     944.30960  \n",
       "229    2019.27970  \n",
       "230    4157.38050  \n",
       "231    1989.18696  \n",
       "232    6220.20000  \n",
       "..            ...  \n",
       "747    1736.47000  \n",
       "748    1803.00000  \n",
       "749     213.00000  \n",
       "750    3462.00000  \n",
       "751    4807.00000  \n",
       "\n",
       "[334 rows x 8 columns]"
      ]
     },
     "execution_count": 8,
     "metadata": {},
     "output_type": "execute_result"
    }
   ],
   "source": [
    "# Deleting all rows of sales from returning customers\n",
    "New_customers = Sales_df1.groupby(['New_or_Returning']).get_group('New')\n",
    "New_customers"
   ]
  },
  {
   "cell_type": "code",
   "execution_count": 9,
   "metadata": {
    "collapsed": false
   },
   "outputs": [
    {
     "data": {
      "text/html": [
       "<div>\n",
       "<table border=\"1\" class=\"dataframe\">\n",
       "  <thead>\n",
       "    <tr style=\"text-align: right;\">\n",
       "      <th></th>\n",
       "      <th>Total_Sales</th>\n",
       "      <th>New_or_Returning</th>\n",
       "    </tr>\n",
       "    <tr>\n",
       "      <th>Date_of_Order</th>\n",
       "      <th></th>\n",
       "      <th></th>\n",
       "    </tr>\n",
       "  </thead>\n",
       "  <tbody>\n",
       "    <tr>\n",
       "      <th>2015-01-29</th>\n",
       "      <td>754.0</td>\n",
       "      <td>New</td>\n",
       "    </tr>\n",
       "    <tr>\n",
       "      <th>2015-03-06</th>\n",
       "      <td>1621.0</td>\n",
       "      <td>New</td>\n",
       "    </tr>\n",
       "    <tr>\n",
       "      <th>2015-04-24</th>\n",
       "      <td>3435.0</td>\n",
       "      <td>New</td>\n",
       "    </tr>\n",
       "    <tr>\n",
       "      <th>2015-02-23</th>\n",
       "      <td>1586.4</td>\n",
       "      <td>New</td>\n",
       "    </tr>\n",
       "    <tr>\n",
       "      <th>2014-09-10</th>\n",
       "      <td>6220.2</td>\n",
       "      <td>New</td>\n",
       "    </tr>\n",
       "  </tbody>\n",
       "</table>\n",
       "</div>"
      ],
      "text/plain": [
       "               Total_Sales New_or_Returning\n",
       "Date_of_Order                              \n",
       "2015-01-29           754.0              New\n",
       "2015-03-06          1621.0              New\n",
       "2015-04-24          3435.0              New\n",
       "2015-02-23          1586.4              New\n",
       "2014-09-10          6220.2              New"
      ]
     },
     "execution_count": 9,
     "metadata": {},
     "output_type": "execute_result"
    }
   ],
   "source": [
    "# Grabbing 3 columns from the dataset and setting the index to Date of order.\n",
    "Resampled_ind = New_customers[['Date_of_Order', 'Total_Sales', 'New_or_Returning']].set_index('Date_of_Order')\n",
    "Resampled_ind.head()"
   ]
  },
  {
   "cell_type": "code",
   "execution_count": 10,
   "metadata": {
    "collapsed": false
   },
   "outputs": [
    {
     "data": {
      "text/html": [
       "<div>\n",
       "<table border=\"1\" class=\"dataframe\">\n",
       "  <thead>\n",
       "    <tr style=\"text-align: right;\">\n",
       "      <th></th>\n",
       "      <th>New_or_Returning</th>\n",
       "      <th>Total_Sales</th>\n",
       "    </tr>\n",
       "    <tr>\n",
       "      <th>Date_of_Order</th>\n",
       "      <th></th>\n",
       "      <th></th>\n",
       "    </tr>\n",
       "  </thead>\n",
       "  <tbody>\n",
       "    <tr>\n",
       "      <th>2015-01-29</th>\n",
       "      <td>1</td>\n",
       "      <td>754.00</td>\n",
       "    </tr>\n",
       "    <tr>\n",
       "      <th>2015-03-06</th>\n",
       "      <td>1</td>\n",
       "      <td>1621.00</td>\n",
       "    </tr>\n",
       "    <tr>\n",
       "      <th>2015-04-24</th>\n",
       "      <td>1</td>\n",
       "      <td>3435.00</td>\n",
       "    </tr>\n",
       "    <tr>\n",
       "      <th>2015-02-23</th>\n",
       "      <td>1</td>\n",
       "      <td>1586.40</td>\n",
       "    </tr>\n",
       "    <tr>\n",
       "      <th>2014-09-10</th>\n",
       "      <td>1</td>\n",
       "      <td>6220.20</td>\n",
       "    </tr>\n",
       "    <tr>\n",
       "      <th>...</th>\n",
       "      <td>...</td>\n",
       "      <td>...</td>\n",
       "    </tr>\n",
       "    <tr>\n",
       "      <th>2014-03-18</th>\n",
       "      <td>1</td>\n",
       "      <td>1736.47</td>\n",
       "    </tr>\n",
       "    <tr>\n",
       "      <th>2014-03-19</th>\n",
       "      <td>1</td>\n",
       "      <td>1803.00</td>\n",
       "    </tr>\n",
       "    <tr>\n",
       "      <th>2014-05-02</th>\n",
       "      <td>1</td>\n",
       "      <td>213.00</td>\n",
       "    </tr>\n",
       "    <tr>\n",
       "      <th>2014-05-02</th>\n",
       "      <td>1</td>\n",
       "      <td>3462.00</td>\n",
       "    </tr>\n",
       "    <tr>\n",
       "      <th>2014-07-02</th>\n",
       "      <td>1</td>\n",
       "      <td>4807.00</td>\n",
       "    </tr>\n",
       "  </tbody>\n",
       "</table>\n",
       "<p>334 rows × 2 columns</p>\n",
       "</div>"
      ],
      "text/plain": [
       "               New_or_Returning  Total_Sales\n",
       "Date_of_Order                               \n",
       "2015-01-29                    1       754.00\n",
       "2015-03-06                    1      1621.00\n",
       "2015-04-24                    1      3435.00\n",
       "2015-02-23                    1      1586.40\n",
       "2014-09-10                    1      6220.20\n",
       "...                         ...          ...\n",
       "2014-03-18                    1      1736.47\n",
       "2014-03-19                    1      1803.00\n",
       "2014-05-02                    1       213.00\n",
       "2014-05-02                    1      3462.00\n",
       "2014-07-02                    1      4807.00\n",
       "\n",
       "[334 rows x 2 columns]"
      ]
     },
     "execution_count": 10,
     "metadata": {},
     "output_type": "execute_result"
    }
   ],
   "source": [
    "# Replacing the 'New' string with the number 1 so that they can be added later. \n",
    "Change_New = Resampled_ind[['New_or_Returning', 'Total_Sales']].replace(['New'], [1])  \n",
    "Change_New"
   ]
  },
  {
   "cell_type": "code",
   "execution_count": 11,
   "metadata": {
    "collapsed": false
   },
   "outputs": [
    {
     "data": {
      "text/html": [
       "<div>\n",
       "<table border=\"1\" class=\"dataframe\">\n",
       "  <thead>\n",
       "    <tr style=\"text-align: right;\">\n",
       "      <th></th>\n",
       "      <th>New_or_Returning</th>\n",
       "      <th>Total_Sales</th>\n",
       "    </tr>\n",
       "    <tr>\n",
       "      <th>Date_of_Order</th>\n",
       "      <th></th>\n",
       "      <th></th>\n",
       "    </tr>\n",
       "  </thead>\n",
       "  <tbody>\n",
       "    <tr>\n",
       "      <th>1970-01-31</th>\n",
       "      <td>46</td>\n",
       "      <td>170331.15</td>\n",
       "    </tr>\n",
       "    <tr>\n",
       "      <th>1970-02-28</th>\n",
       "      <td>NaN</td>\n",
       "      <td>NaN</td>\n",
       "    </tr>\n",
       "    <tr>\n",
       "      <th>1970-03-31</th>\n",
       "      <td>NaN</td>\n",
       "      <td>NaN</td>\n",
       "    </tr>\n",
       "    <tr>\n",
       "      <th>1970-04-30</th>\n",
       "      <td>NaN</td>\n",
       "      <td>NaN</td>\n",
       "    </tr>\n",
       "    <tr>\n",
       "      <th>1970-05-31</th>\n",
       "      <td>NaN</td>\n",
       "      <td>NaN</td>\n",
       "    </tr>\n",
       "    <tr>\n",
       "      <th>...</th>\n",
       "      <td>...</td>\n",
       "      <td>...</td>\n",
       "    </tr>\n",
       "    <tr>\n",
       "      <th>2015-03-31</th>\n",
       "      <td>3</td>\n",
       "      <td>7927.00</td>\n",
       "    </tr>\n",
       "    <tr>\n",
       "      <th>2015-04-30</th>\n",
       "      <td>9</td>\n",
       "      <td>44019.56</td>\n",
       "    </tr>\n",
       "    <tr>\n",
       "      <th>2015-05-31</th>\n",
       "      <td>5</td>\n",
       "      <td>7170.32</td>\n",
       "    </tr>\n",
       "    <tr>\n",
       "      <th>2015-06-30</th>\n",
       "      <td>9</td>\n",
       "      <td>30735.00</td>\n",
       "    </tr>\n",
       "    <tr>\n",
       "      <th>2015-07-31</th>\n",
       "      <td>15</td>\n",
       "      <td>37845.98</td>\n",
       "    </tr>\n",
       "  </tbody>\n",
       "</table>\n",
       "<p>547 rows × 2 columns</p>\n",
       "</div>"
      ],
      "text/plain": [
       "               New_or_Returning  Total_Sales\n",
       "Date_of_Order                               \n",
       "1970-01-31                   46    170331.15\n",
       "1970-02-28                  NaN          NaN\n",
       "1970-03-31                  NaN          NaN\n",
       "1970-04-30                  NaN          NaN\n",
       "1970-05-31                  NaN          NaN\n",
       "...                         ...          ...\n",
       "2015-03-31                    3      7927.00\n",
       "2015-04-30                    9     44019.56\n",
       "2015-05-31                    5      7170.32\n",
       "2015-06-30                    9     30735.00\n",
       "2015-07-31                   15     37845.98\n",
       "\n",
       "[547 rows x 2 columns]"
      ]
     },
     "execution_count": 11,
     "metadata": {},
     "output_type": "execute_result"
    }
   ],
   "source": [
    "# Data is downsampled to month, taking the sum of the Sales and the new customers in each month. \n",
    "Index_Month = Change_New.resample('M', how=('sum'))\n",
    "Index_Month"
   ]
  },
  {
   "cell_type": "code",
   "execution_count": 12,
   "metadata": {
    "collapsed": false
   },
   "outputs": [
    {
     "data": {
      "text/html": [
       "<div>\n",
       "<table border=\"1\" class=\"dataframe\">\n",
       "  <thead>\n",
       "    <tr style=\"text-align: right;\">\n",
       "      <th></th>\n",
       "      <th>New_or_Returning</th>\n",
       "      <th>Total_Sales</th>\n",
       "    </tr>\n",
       "    <tr>\n",
       "      <th>Date_of_Order</th>\n",
       "      <th></th>\n",
       "      <th></th>\n",
       "    </tr>\n",
       "  </thead>\n",
       "  <tbody>\n",
       "    <tr>\n",
       "      <th>2013-08-31</th>\n",
       "      <td>3</td>\n",
       "      <td>7410.00</td>\n",
       "    </tr>\n",
       "    <tr>\n",
       "      <th>2013-09-30</th>\n",
       "      <td>4</td>\n",
       "      <td>13538.40</td>\n",
       "    </tr>\n",
       "    <tr>\n",
       "      <th>2013-10-31</th>\n",
       "      <td>5</td>\n",
       "      <td>9627.02</td>\n",
       "    </tr>\n",
       "    <tr>\n",
       "      <th>2013-11-30</th>\n",
       "      <td>10</td>\n",
       "      <td>40999.01</td>\n",
       "    </tr>\n",
       "    <tr>\n",
       "      <th>2013-12-31</th>\n",
       "      <td>6</td>\n",
       "      <td>36582.00</td>\n",
       "    </tr>\n",
       "  </tbody>\n",
       "</table>\n",
       "</div>"
      ],
      "text/plain": [
       "               New_or_Returning  Total_Sales\n",
       "Date_of_Order                               \n",
       "2013-08-31                    3      7410.00\n",
       "2013-09-30                    4     13538.40\n",
       "2013-10-31                    5      9627.02\n",
       "2013-11-30                   10     40999.01\n",
       "2013-12-31                    6     36582.00"
      ]
     },
     "execution_count": 12,
     "metadata": {},
     "output_type": "execute_result"
    }
   ],
   "source": [
    "# Deleting all rows before 2013-08-31. Keeping only two business years 2013 - 2015. \n",
    "Month_ind = Index_Month.drop(Index_Month.index[:523])\n",
    "Month_ind.head()"
   ]
  },
  {
   "cell_type": "markdown",
   "metadata": {},
   "source": [
    "# Importing a new dataset (Cost of Ads per month)"
   ]
  },
  {
   "cell_type": "code",
   "execution_count": 13,
   "metadata": {
    "collapsed": false
   },
   "outputs": [
    {
     "data": {
      "text/html": [
       "<div>\n",
       "<table border=\"1\" class=\"dataframe\">\n",
       "  <thead>\n",
       "    <tr style=\"text-align: right;\">\n",
       "      <th></th>\n",
       "      <th>Ad Cost</th>\n",
       "    </tr>\n",
       "    <tr>\n",
       "      <th>Date</th>\n",
       "      <th></th>\n",
       "    </tr>\n",
       "  </thead>\n",
       "  <tbody>\n",
       "    <tr>\n",
       "      <th>2013-08-01</th>\n",
       "      <td>947.94</td>\n",
       "    </tr>\n",
       "    <tr>\n",
       "      <th>2013-09-01</th>\n",
       "      <td>936.06</td>\n",
       "    </tr>\n",
       "    <tr>\n",
       "      <th>2013-10-01</th>\n",
       "      <td>935.72</td>\n",
       "    </tr>\n",
       "    <tr>\n",
       "      <th>2013-11-01</th>\n",
       "      <td>930.47</td>\n",
       "    </tr>\n",
       "    <tr>\n",
       "      <th>2013-12-01</th>\n",
       "      <td>948.00</td>\n",
       "    </tr>\n",
       "  </tbody>\n",
       "</table>\n",
       "</div>"
      ],
      "text/plain": [
       "            Ad Cost \n",
       "Date                \n",
       "2013-08-01    947.94\n",
       "2013-09-01    936.06\n",
       "2013-10-01    935.72\n",
       "2013-11-01    930.47\n",
       "2013-12-01    948.00"
      ]
     },
     "execution_count": 13,
     "metadata": {},
     "output_type": "execute_result"
    }
   ],
   "source": [
    "#Loading another dataset from excel into python from a different sheet, and making the Date column the index.\n",
    "Ads_df = pd.read_excel('../../Sales Data.xlsm', sheetname = 'Ads', index_col='Date')\n",
    "Ads_df.head()"
   ]
  },
  {
   "cell_type": "code",
   "execution_count": 14,
   "metadata": {
    "collapsed": false
   },
   "outputs": [
    {
     "data": {
      "text/html": [
       "<div>\n",
       "<table border=\"1\" class=\"dataframe\">\n",
       "  <thead>\n",
       "    <tr style=\"text-align: right;\">\n",
       "      <th></th>\n",
       "      <th>Ad_Cost</th>\n",
       "    </tr>\n",
       "    <tr>\n",
       "      <th>Date</th>\n",
       "      <th></th>\n",
       "    </tr>\n",
       "  </thead>\n",
       "  <tbody>\n",
       "    <tr>\n",
       "      <th>2013-08-31</th>\n",
       "      <td>947.94</td>\n",
       "    </tr>\n",
       "    <tr>\n",
       "      <th>2013-09-30</th>\n",
       "      <td>936.06</td>\n",
       "    </tr>\n",
       "    <tr>\n",
       "      <th>2013-10-31</th>\n",
       "      <td>935.72</td>\n",
       "    </tr>\n",
       "    <tr>\n",
       "      <th>2013-11-30</th>\n",
       "      <td>930.47</td>\n",
       "    </tr>\n",
       "    <tr>\n",
       "      <th>2013-12-31</th>\n",
       "      <td>948.00</td>\n",
       "    </tr>\n",
       "  </tbody>\n",
       "</table>\n",
       "</div>"
      ],
      "text/plain": [
       "            Ad_Cost\n",
       "Date               \n",
       "2013-08-31   947.94\n",
       "2013-09-30   936.06\n",
       "2013-10-31   935.72\n",
       "2013-11-30   930.47\n",
       "2013-12-31   948.00"
      ]
     },
     "execution_count": 14,
     "metadata": {},
     "output_type": "execute_result"
    }
   ],
   "source": [
    "# Renaming the column\n",
    "# Resampling the date column, so that the month is synonymous with the other table \n",
    "Ads_df.columns = ['Ad_Cost']\n",
    "Ads_df = Ads_df.resample('M', how=('sum'))   \n",
    "Ads_df.head()"
   ]
  },
  {
   "cell_type": "code",
   "execution_count": 15,
   "metadata": {
    "collapsed": false
   },
   "outputs": [
    {
     "data": {
      "text/html": [
       "<div>\n",
       "<table border=\"1\" class=\"dataframe\">\n",
       "  <thead>\n",
       "    <tr style=\"text-align: right;\">\n",
       "      <th></th>\n",
       "      <th>Date_of_Order</th>\n",
       "      <th>New_or_Returning</th>\n",
       "      <th>Total_Sales</th>\n",
       "      <th>Ad_Cost</th>\n",
       "    </tr>\n",
       "  </thead>\n",
       "  <tbody>\n",
       "    <tr>\n",
       "      <th>0</th>\n",
       "      <td>2013-08-31</td>\n",
       "      <td>3</td>\n",
       "      <td>7410.00</td>\n",
       "      <td>947.94</td>\n",
       "    </tr>\n",
       "    <tr>\n",
       "      <th>1</th>\n",
       "      <td>2013-09-30</td>\n",
       "      <td>4</td>\n",
       "      <td>13538.40</td>\n",
       "      <td>936.06</td>\n",
       "    </tr>\n",
       "    <tr>\n",
       "      <th>2</th>\n",
       "      <td>2013-10-31</td>\n",
       "      <td>5</td>\n",
       "      <td>9627.02</td>\n",
       "      <td>935.72</td>\n",
       "    </tr>\n",
       "    <tr>\n",
       "      <th>3</th>\n",
       "      <td>2013-11-30</td>\n",
       "      <td>10</td>\n",
       "      <td>40999.01</td>\n",
       "      <td>930.47</td>\n",
       "    </tr>\n",
       "    <tr>\n",
       "      <th>4</th>\n",
       "      <td>2013-12-31</td>\n",
       "      <td>6</td>\n",
       "      <td>36582.00</td>\n",
       "      <td>948.00</td>\n",
       "    </tr>\n",
       "  </tbody>\n",
       "</table>\n",
       "</div>"
      ],
      "text/plain": [
       "  Date_of_Order  New_or_Returning  Total_Sales  Ad_Cost\n",
       "0    2013-08-31                 3      7410.00   947.94\n",
       "1    2013-09-30                 4     13538.40   936.06\n",
       "2    2013-10-31                 5      9627.02   935.72\n",
       "3    2013-11-30                10     40999.01   930.47\n",
       "4    2013-12-31                 6     36582.00   948.00"
      ]
     },
     "execution_count": 15,
     "metadata": {},
     "output_type": "execute_result"
    }
   ],
   "source": [
    "# Combining the two dataframes by the date of order, and resetting the index.\n",
    "Combined_df = pd.concat([Month_ind, Ads_df], axis=1, join_axes=[Month_ind.index]).reset_index()\n",
    "Combined_df.head()\n"
   ]
  },
  {
   "cell_type": "code",
   "execution_count": 16,
   "metadata": {
    "collapsed": false
   },
   "outputs": [
    {
     "data": {
      "image/png": "[encoded data removed]",
      "text/plain": [
       "<matplotlib.figure.Figure at 0x844c3c8>"
      ]
     },
     "metadata": {},
     "output_type": "display_data"
    }
   ],
   "source": [
    "#change figure size\n",
    "plt.figure(figsize=(12,10)) # in inches, width then height. \n",
    "\n",
    "#creating subplots and defining them\n",
    "# 3 rows, 1 columns, 1st subplot\n",
    "plt.subplot(3,1,1)      \n",
    "plt.plot(Combined_df.Date_of_Order, Combined_df.Total_Sales, marker='o', color ='m', linestyle='--')\n",
    "#Add title\n",
    "plt.title('Sales to New Customers per Month')\n",
    "#Add gridlines\n",
    "plt.grid(True)\n",
    "#Add axis labels\n",
    "plt.ylabel('Sales to New Customers ($)')\n",
    "\n",
    "# 3 rows, 1 columns, 2nd subplot\n",
    "plt.subplot(3,1,2)      \n",
    "plt.plot(Combined_df.Date_of_Order, Combined_df.Ad_Cost, marker='o', color ='m', linestyle='--')\n",
    "#Add title\n",
    "plt.title('Cost of Ads per Month')\n",
    "#Add gridlines\n",
    "plt.grid(True)\n",
    "#Add axis labels\n",
    "plt.ylabel('Cost of Ads ($)')\n",
    "\n",
    "# 3 rows, 1 columns, 3rd subplot\n",
    "plt.subplot(3,1,3)      \n",
    "plt.plot(Combined_df.Date_of_Order, Combined_df.New_or_Returning, marker='o', color ='m', linestyle='--')\n",
    "#Add title\n",
    "plt.title('Number of New Customers per Month')\n",
    "#Add gridlines\n",
    "plt.grid(True)\n",
    "#Add axis labels\n",
    "plt.ylabel('Number of New Customers')\n",
    "\n",
    "# give plots some breathing room\n",
    "plt.tight_layout()\n",
    "\n",
    "#show plot\n",
    "plt.show()\n",
    "\n"
   ]
  },
  {
   "cell_type": "markdown",
   "metadata": {},
   "source": [
    "#PLOT 2: Plotting the distribution of sales over the years 2013- 2015 by month (Instead of plotting Sales, could plot the number of customers too). "
   ]
  },
  {
   "cell_type": "code",
   "execution_count": 17,
   "metadata": {
    "collapsed": false
   },
   "outputs": [
    {
     "data": {
      "text/html": [
       "<div>\n",
       "<table border=\"1\" class=\"dataframe\">\n",
       "  <thead>\n",
       "    <tr style=\"text-align: right;\">\n",
       "      <th></th>\n",
       "      <th>Exchange_Rate</th>\n",
       "      <th>Customer</th>\n",
       "      <th>Field</th>\n",
       "      <th>Date_of_Order</th>\n",
       "      <th>Total_Sales</th>\n",
       "      <th>Year_of_First_Order</th>\n",
       "      <th>New_or_Returning</th>\n",
       "      <th>Sales_in_CAD</th>\n",
       "    </tr>\n",
       "  </thead>\n",
       "  <tbody>\n",
       "    <tr>\n",
       "      <th>0</th>\n",
       "      <td>1.2563</td>\n",
       "      <td>3M Maplewood</td>\n",
       "      <td>solutions provider</td>\n",
       "      <td>2015-04-13</td>\n",
       "      <td>3267.00</td>\n",
       "      <td>2009</td>\n",
       "      <td>Returning</td>\n",
       "      <td>4104.3321</td>\n",
       "    </tr>\n",
       "    <tr>\n",
       "      <th>1</th>\n",
       "      <td>1.2188</td>\n",
       "      <td>ABB Australia Pty Limited</td>\n",
       "      <td>engine technology</td>\n",
       "      <td>2015-05-21</td>\n",
       "      <td>480.00</td>\n",
       "      <td>2008</td>\n",
       "      <td>Returning</td>\n",
       "      <td>585.0240</td>\n",
       "    </tr>\n",
       "    <tr>\n",
       "      <th>2</th>\n",
       "      <td>1.1800</td>\n",
       "      <td>Accutech Instrumentation</td>\n",
       "      <td>distributor</td>\n",
       "      <td>2015-01-13</td>\n",
       "      <td>18990.40</td>\n",
       "      <td>2013</td>\n",
       "      <td>Returning</td>\n",
       "      <td>22408.6720</td>\n",
       "    </tr>\n",
       "    <tr>\n",
       "      <th>3</th>\n",
       "      <td>1.0000</td>\n",
       "      <td>Advanced Engine Technology</td>\n",
       "      <td>engine technology</td>\n",
       "      <td>2015-06-23</td>\n",
       "      <td>7330.92</td>\n",
       "      <td>2008</td>\n",
       "      <td>Returning</td>\n",
       "      <td>7330.9200</td>\n",
       "    </tr>\n",
       "    <tr>\n",
       "      <th>4</th>\n",
       "      <td>1.1894</td>\n",
       "      <td>Agronova</td>\n",
       "      <td>food</td>\n",
       "      <td>2015-01-12</td>\n",
       "      <td>1746.00</td>\n",
       "      <td>2005</td>\n",
       "      <td>Returning</td>\n",
       "      <td>2076.6924</td>\n",
       "    </tr>\n",
       "  </tbody>\n",
       "</table>\n",
       "</div>"
      ],
      "text/plain": [
       "   Exchange_Rate                     Customer               Field  \\\n",
       "0         1.2563                 3M Maplewood  solutions provider   \n",
       "1         1.2188    ABB Australia Pty Limited   engine technology   \n",
       "2         1.1800     Accutech Instrumentation         distributor   \n",
       "3         1.0000  Advanced Engine Technology   engine technology    \n",
       "4         1.1894                    Agronova                 food   \n",
       "\n",
       "  Date_of_Order  Total_Sales Year_of_First_Order New_or_Returning  \\\n",
       "0    2015-04-13      3267.00                2009       Returning    \n",
       "1    2015-05-21       480.00                2008       Returning    \n",
       "2    2015-01-13     18990.40                2013       Returning    \n",
       "3    2015-06-23      7330.92                2008       Returning    \n",
       "4    2015-01-12      1746.00                2005        Returning   \n",
       "\n",
       "   Sales_in_CAD  \n",
       "0     4104.3321  \n",
       "1      585.0240  \n",
       "2    22408.6720  \n",
       "3     7330.9200  \n",
       "4     2076.6924  "
      ]
     },
     "execution_count": 17,
     "metadata": {},
     "output_type": "execute_result"
    }
   ],
   "source": [
    "# Visualizing the dataframe that we will downsample to make plot 2 \n",
    "Sales_df1.head()"
   ]
  },
  {
   "cell_type": "code",
   "execution_count": 18,
   "metadata": {
    "collapsed": false
   },
   "outputs": [
    {
     "data": {
      "text/html": [
       "<div>\n",
       "<table border=\"1\" class=\"dataframe\">\n",
       "  <thead>\n",
       "    <tr style=\"text-align: right;\">\n",
       "      <th></th>\n",
       "      <th>New_or_Returning</th>\n",
       "      <th>Sales_in_CAD</th>\n",
       "    </tr>\n",
       "    <tr>\n",
       "      <th>Date_of_Order</th>\n",
       "      <th></th>\n",
       "      <th></th>\n",
       "    </tr>\n",
       "  </thead>\n",
       "  <tbody>\n",
       "    <tr>\n",
       "      <th>2015-04-13</th>\n",
       "      <td>Returning</td>\n",
       "      <td>4104.3321</td>\n",
       "    </tr>\n",
       "    <tr>\n",
       "      <th>2015-05-21</th>\n",
       "      <td>Returning</td>\n",
       "      <td>585.0240</td>\n",
       "    </tr>\n",
       "    <tr>\n",
       "      <th>2015-01-13</th>\n",
       "      <td>Returning</td>\n",
       "      <td>22408.6720</td>\n",
       "    </tr>\n",
       "    <tr>\n",
       "      <th>2015-06-23</th>\n",
       "      <td>Returning</td>\n",
       "      <td>7330.9200</td>\n",
       "    </tr>\n",
       "    <tr>\n",
       "      <th>2015-01-12</th>\n",
       "      <td>Returning</td>\n",
       "      <td>2076.6924</td>\n",
       "    </tr>\n",
       "  </tbody>\n",
       "</table>\n",
       "</div>"
      ],
      "text/plain": [
       "              New_or_Returning  Sales_in_CAD\n",
       "Date_of_Order                               \n",
       "2015-04-13          Returning      4104.3321\n",
       "2015-05-21          Returning       585.0240\n",
       "2015-01-13          Returning     22408.6720\n",
       "2015-06-23          Returning      7330.9200\n",
       "2015-01-12           Returning     2076.6924"
      ]
     },
     "execution_count": 18,
     "metadata": {},
     "output_type": "execute_result"
    }
   ],
   "source": [
    "# Grabbing 3 columns from the dataset and setting the index to Date of order.\n",
    "Numbers_CAD = Sales_df1[['Date_of_Order', 'New_or_Returning', 'Sales_in_CAD']].set_index('Date_of_Order')\n",
    "Numbers_CAD.head()"
   ]
  },
  {
   "cell_type": "code",
   "execution_count": 19,
   "metadata": {
    "collapsed": false
   },
   "outputs": [
    {
     "data": {
      "text/html": [
       "<div>\n",
       "<table border=\"1\" class=\"dataframe\">\n",
       "  <thead>\n",
       "    <tr style=\"text-align: right;\">\n",
       "      <th></th>\n",
       "      <th>Sales_in_CAD</th>\n",
       "    </tr>\n",
       "    <tr>\n",
       "      <th>Date_of_Order</th>\n",
       "      <th></th>\n",
       "    </tr>\n",
       "  </thead>\n",
       "  <tbody>\n",
       "    <tr>\n",
       "      <th>1970-01-31</th>\n",
       "      <td>274116</td>\n",
       "    </tr>\n",
       "    <tr>\n",
       "      <th>1970-02-28</th>\n",
       "      <td>NaN</td>\n",
       "    </tr>\n",
       "    <tr>\n",
       "      <th>1970-03-31</th>\n",
       "      <td>NaN</td>\n",
       "    </tr>\n",
       "    <tr>\n",
       "      <th>1970-04-30</th>\n",
       "      <td>NaN</td>\n",
       "    </tr>\n",
       "    <tr>\n",
       "      <th>1970-05-31</th>\n",
       "      <td>NaN</td>\n",
       "    </tr>\n",
       "  </tbody>\n",
       "</table>\n",
       "</div>"
      ],
      "text/plain": [
       "               Sales_in_CAD\n",
       "Date_of_Order              \n",
       "1970-01-31           274116\n",
       "1970-02-28              NaN\n",
       "1970-03-31              NaN\n",
       "1970-04-30              NaN\n",
       "1970-05-31              NaN"
      ]
     },
     "execution_count": 19,
     "metadata": {},
     "output_type": "execute_result"
    }
   ],
   "source": [
    "# Data is downsampled to month, taking the sum of the Sales and the new customers in each month. \n",
    "Month_df = Numbers_CAD.resample('M', how=('sum'))\n",
    "Month_df.head()"
   ]
  },
  {
   "cell_type": "code",
   "execution_count": 20,
   "metadata": {
    "collapsed": false
   },
   "outputs": [
    {
     "data": {
      "text/html": [
       "<div>\n",
       "<table border=\"1\" class=\"dataframe\">\n",
       "  <thead>\n",
       "    <tr style=\"text-align: right;\">\n",
       "      <th></th>\n",
       "      <th>Sales_in_CAD</th>\n",
       "    </tr>\n",
       "    <tr>\n",
       "      <th>Date_of_Order</th>\n",
       "      <th></th>\n",
       "    </tr>\n",
       "  </thead>\n",
       "  <tbody>\n",
       "    <tr>\n",
       "      <th>2012-08-31</th>\n",
       "      <td>266208.49</td>\n",
       "    </tr>\n",
       "    <tr>\n",
       "      <th>2012-09-30</th>\n",
       "      <td>242972.33</td>\n",
       "    </tr>\n",
       "    <tr>\n",
       "      <th>2012-10-31</th>\n",
       "      <td>78000.68</td>\n",
       "    </tr>\n",
       "    <tr>\n",
       "      <th>2012-11-30</th>\n",
       "      <td>165319.22</td>\n",
       "    </tr>\n",
       "    <tr>\n",
       "      <th>2012-12-31</th>\n",
       "      <td>8561.60</td>\n",
       "    </tr>\n",
       "  </tbody>\n",
       "</table>\n",
       "</div>"
      ],
      "text/plain": [
       "               Sales_in_CAD\n",
       "Date_of_Order              \n",
       "2012-08-31        266208.49\n",
       "2012-09-30        242972.33\n",
       "2012-10-31         78000.68\n",
       "2012-11-30        165319.22\n",
       "2012-12-31          8561.60"
      ]
     },
     "execution_count": 20,
     "metadata": {},
     "output_type": "execute_result"
    }
   ],
   "source": [
    "# Deleting all rows before 2012-08-31. Keeping only 3 business years 2012 - 2015. \n",
    "df_less = Month_df.drop(Index_Month.index[:511])\n",
    "df_less.head()"
   ]
  },
  {
   "cell_type": "markdown",
   "metadata": {},
   "source": [
    "Making 3 different tables to have one table per business year from 2013-2015. "
   ]
  },
  {
   "cell_type": "code",
   "execution_count": 21,
   "metadata": {
    "collapsed": false
   },
   "outputs": [],
   "source": [
    "# Making a table for the business year 2014-2015 only\n",
    "Year3_df = df_less.drop(df_less.index[:24]).reset_index()\n",
    "\n",
    "#Creating a new column of month, by taking the month out of the Date_of_Order column  \n",
    "Year3_df['Month'] = Year3_df['Date_of_Order'].dt.month"
   ]
  },
  {
   "cell_type": "code",
   "execution_count": 22,
   "metadata": {
    "collapsed": false
   },
   "outputs": [
    {
     "data": {
      "text/html": [
       "<div>\n",
       "<table border=\"1\" class=\"dataframe\">\n",
       "  <thead>\n",
       "    <tr style=\"text-align: right;\">\n",
       "      <th></th>\n",
       "      <th>Month</th>\n",
       "      <th>Date_of_Order</th>\n",
       "      <th>Sales_in_CAD</th>\n",
       "    </tr>\n",
       "  </thead>\n",
       "  <tbody>\n",
       "    <tr>\n",
       "      <th>0</th>\n",
       "      <td>8</td>\n",
       "      <td>2014-08-31</td>\n",
       "      <td>31362.196600</td>\n",
       "    </tr>\n",
       "    <tr>\n",
       "      <th>1</th>\n",
       "      <td>9</td>\n",
       "      <td>2014-09-30</td>\n",
       "      <td>139844.239100</td>\n",
       "    </tr>\n",
       "    <tr>\n",
       "      <th>2</th>\n",
       "      <td>10</td>\n",
       "      <td>2014-10-31</td>\n",
       "      <td>166207.229360</td>\n",
       "    </tr>\n",
       "    <tr>\n",
       "      <th>3</th>\n",
       "      <td>11</td>\n",
       "      <td>2014-11-30</td>\n",
       "      <td>66069.594558</td>\n",
       "    </tr>\n",
       "    <tr>\n",
       "      <th>4</th>\n",
       "      <td>12</td>\n",
       "      <td>2014-12-31</td>\n",
       "      <td>85777.469182</td>\n",
       "    </tr>\n",
       "  </tbody>\n",
       "</table>\n",
       "</div>"
      ],
      "text/plain": [
       "   Month Date_of_Order   Sales_in_CAD\n",
       "0      8    2014-08-31   31362.196600\n",
       "1      9    2014-09-30  139844.239100\n",
       "2     10    2014-10-31  166207.229360\n",
       "3     11    2014-11-30   66069.594558\n",
       "4     12    2014-12-31   85777.469182"
      ]
     },
     "execution_count": 22,
     "metadata": {},
     "output_type": "execute_result"
    }
   ],
   "source": [
    "#Setting the index to month\n",
    "Year3_df.set_index('Month').reset_index().head()"
   ]
  },
  {
   "cell_type": "code",
   "execution_count": 23,
   "metadata": {
    "collapsed": false
   },
   "outputs": [],
   "source": [
    "# Making a table for the business year 2012-2013 only\n",
    "Year1_df = df_less.drop(df_less.index[12:]).reset_index()\n",
    "\n",
    "#Creating a new column of month, by taking the month out of the Date_of_Order column  \n",
    "Year1_df['Month'] = Year1_df['Date_of_Order'].dt.month"
   ]
  },
  {
   "cell_type": "code",
   "execution_count": 24,
   "metadata": {
    "collapsed": false
   },
   "outputs": [
    {
     "data": {
      "text/html": [
       "<div>\n",
       "<table border=\"1\" class=\"dataframe\">\n",
       "  <thead>\n",
       "    <tr style=\"text-align: right;\">\n",
       "      <th></th>\n",
       "      <th>Month</th>\n",
       "      <th>Date_of_Order</th>\n",
       "      <th>Sales_in_CAD</th>\n",
       "    </tr>\n",
       "  </thead>\n",
       "  <tbody>\n",
       "    <tr>\n",
       "      <th>0</th>\n",
       "      <td>8</td>\n",
       "      <td>2012-08-31</td>\n",
       "      <td>266208.49</td>\n",
       "    </tr>\n",
       "    <tr>\n",
       "      <th>1</th>\n",
       "      <td>9</td>\n",
       "      <td>2012-09-30</td>\n",
       "      <td>242972.33</td>\n",
       "    </tr>\n",
       "    <tr>\n",
       "      <th>2</th>\n",
       "      <td>10</td>\n",
       "      <td>2012-10-31</td>\n",
       "      <td>78000.68</td>\n",
       "    </tr>\n",
       "    <tr>\n",
       "      <th>3</th>\n",
       "      <td>11</td>\n",
       "      <td>2012-11-30</td>\n",
       "      <td>165319.22</td>\n",
       "    </tr>\n",
       "    <tr>\n",
       "      <th>4</th>\n",
       "      <td>12</td>\n",
       "      <td>2012-12-31</td>\n",
       "      <td>8561.60</td>\n",
       "    </tr>\n",
       "  </tbody>\n",
       "</table>\n",
       "</div>"
      ],
      "text/plain": [
       "   Month Date_of_Order  Sales_in_CAD\n",
       "0      8    2012-08-31     266208.49\n",
       "1      9    2012-09-30     242972.33\n",
       "2     10    2012-10-31      78000.68\n",
       "3     11    2012-11-30     165319.22\n",
       "4     12    2012-12-31       8561.60"
      ]
     },
     "execution_count": 24,
     "metadata": {},
     "output_type": "execute_result"
    }
   ],
   "source": [
    "#Setting the index to month\n",
    "Year1_df.set_index('Month').reset_index().head()"
   ]
  },
  {
   "cell_type": "code",
   "execution_count": 25,
   "metadata": {
    "collapsed": false
   },
   "outputs": [],
   "source": [
    "# Making a table for the business year 2013-2014 only\n",
    "Year2_df = df_less.iloc[12:24].reset_index()\n",
    "\n",
    "#Creating a new column of month, by taking the month out of the Date_of_Order column  \n",
    "Year2_df['Month'] = Year2_df['Date_of_Order'].dt.month"
   ]
  },
  {
   "cell_type": "code",
   "execution_count": 26,
   "metadata": {
    "collapsed": false
   },
   "outputs": [
    {
     "data": {
      "text/html": [
       "<div>\n",
       "<table border=\"1\" class=\"dataframe\">\n",
       "  <thead>\n",
       "    <tr style=\"text-align: right;\">\n",
       "      <th></th>\n",
       "      <th>Month</th>\n",
       "      <th>Date_of_Order</th>\n",
       "      <th>Sales_in_CAD</th>\n",
       "    </tr>\n",
       "  </thead>\n",
       "  <tbody>\n",
       "    <tr>\n",
       "      <th>0</th>\n",
       "      <td>8</td>\n",
       "      <td>2012-08-31</td>\n",
       "      <td>266208.49</td>\n",
       "    </tr>\n",
       "    <tr>\n",
       "      <th>1</th>\n",
       "      <td>9</td>\n",
       "      <td>2012-09-30</td>\n",
       "      <td>242972.33</td>\n",
       "    </tr>\n",
       "    <tr>\n",
       "      <th>2</th>\n",
       "      <td>10</td>\n",
       "      <td>2012-10-31</td>\n",
       "      <td>78000.68</td>\n",
       "    </tr>\n",
       "    <tr>\n",
       "      <th>3</th>\n",
       "      <td>11</td>\n",
       "      <td>2012-11-30</td>\n",
       "      <td>165319.22</td>\n",
       "    </tr>\n",
       "    <tr>\n",
       "      <th>4</th>\n",
       "      <td>12</td>\n",
       "      <td>2012-12-31</td>\n",
       "      <td>8561.60</td>\n",
       "    </tr>\n",
       "  </tbody>\n",
       "</table>\n",
       "</div>"
      ],
      "text/plain": [
       "   Month Date_of_Order  Sales_in_CAD\n",
       "0      8    2012-08-31     266208.49\n",
       "1      9    2012-09-30     242972.33\n",
       "2     10    2012-10-31      78000.68\n",
       "3     11    2012-11-30     165319.22\n",
       "4     12    2012-12-31       8561.60"
      ]
     },
     "execution_count": 26,
     "metadata": {},
     "output_type": "execute_result"
    }
   ],
   "source": [
    "#Setting the index to month\n",
    "Year1_df.set_index('Month').reset_index().head()"
   ]
  },
  {
   "cell_type": "code",
   "execution_count": 27,
   "metadata": {
    "collapsed": false
   },
   "outputs": [
    {
     "data": {
      "image/png": "[encoded data removed]",
      "text/plain": [
       "<matplotlib.figure.Figure at 0x843a128>"
      ]
     },
     "metadata": {},
     "output_type": "display_data"
    }
   ],
   "source": [
    "#change figure size\n",
    "plt.figure(figsize=(12,10)) # in inches, width then height. \n",
    "\n",
    "#creating subplots and defining them\n",
    "# 3 rows, 1 columns, 1st subplot\n",
    "plt.subplot(3,1,1)      \n",
    "plt.plot(Year1_df.Date_of_Order, Year1_df.Sales_in_CAD, marker='o', color ='m', linestyle='--')\n",
    "#Add title\n",
    "plt.title('Sales per Month in the 2012-13 Business Year')\n",
    "#Add gridlines\n",
    "plt.grid(True)\n",
    "#Add axis labels\n",
    "plt.ylabel('Sales in CAD')\n",
    "\n",
    "# 3 rows, 1 columns, 2nd subplot\n",
    "plt.subplot(3,1,2)      \n",
    "plt.plot(Year2_df.Date_of_Order, Year2_df.Sales_in_CAD, marker='o', color ='m', linestyle='--')\n",
    "#Add title\n",
    "plt.title('Sales per Month in the 2013-14 Business Year')\n",
    "#Add gridlines\n",
    "plt.grid(True)\n",
    "#Add axis labels\n",
    "plt.ylabel('Sales in CAD')\n",
    "\n",
    "# 3 rows, 1 columns, 3rd subplot\n",
    "plt.subplot(3,1,3)      \n",
    "plt.plot(Year3_df.Date_of_Order, Year3_df.Sales_in_CAD, marker='o', color ='m', linestyle='--')\n",
    "#Add title\n",
    "plt.title('Sales per Month in the 2014-15 Business Year')\n",
    "#Add gridlines\n",
    "plt.grid(True)\n",
    "#Add axis labels\n",
    "plt.ylabel('Sales in CAD')\n",
    "\n",
    "# give plots some breathing room\n",
    "plt.tight_layout()\n",
    "\n",
    "#show plot\n",
    "plt.show()"
   ]
  },
  {
   "cell_type": "code",
   "execution_count": 28,
   "metadata": {
    "collapsed": false
   },
   "outputs": [
    {
     "data": {
      "text/plain": [
       "[<matplotlib.lines.Line2D at 0x99c54e0>,\n",
       " <matplotlib.lines.Line2D at 0x99c57f0>,\n",
       " <matplotlib.lines.Line2D at 0x99c5f28>]"
      ]
     },
     "execution_count": 28,
     "metadata": {},
     "output_type": "execute_result"
    },
    {
     "data": {
      "image/png": "[encoded data removed]",
      "text/plain": [
       "<matplotlib.figure.Figure at 0x934df60>"
      ]
     },
     "metadata": {},
     "output_type": "display_data"
    }
   ],
   "source": [
    "#Plotting all 3 subplots in the same plot \n",
    "plt.figure(figsize=(10,4))\n",
    "plt.plot( Year2_df.Month, Year2_df.Sales_in_CAD, 'mo--', Year2_df.Month, Year1_df.Sales_in_CAD, 'go--', Year1_df.Month, Year3_df.Sales_in_CAD, 'ko')"
   ]
  },
  {
   "cell_type": "code",
   "execution_count": null,
   "metadata": {
    "collapsed": true
   },
   "outputs": [],
   "source": []
  },
  {
   "cell_type": "markdown",
   "metadata": {},
   "source": [
    "#PLOT3: Creating a boxplot that shows the distribution of sales across all fields, also showing how large individual Sales were. This will be done for all years combined first. "
   ]
  },
  {
   "cell_type": "code",
   "execution_count": 19,
   "metadata": {
    "collapsed": false
   },
   "outputs": [
    {
     "data": {
      "text/html": [
       "<div>\n",
       "<table border=\"1\" class=\"dataframe\">\n",
       "  <thead>\n",
       "    <tr style=\"text-align: right;\">\n",
       "      <th></th>\n",
       "      <th></th>\n",
       "      <th>Exchange_Rate</th>\n",
       "      <th>Total_Sales</th>\n",
       "    </tr>\n",
       "    <tr>\n",
       "      <th>Field</th>\n",
       "      <th>Sales_in_CAD</th>\n",
       "      <th></th>\n",
       "      <th></th>\n",
       "    </tr>\n",
       "  </thead>\n",
       "  <tbody>\n",
       "    <tr>\n",
       "      <th rowspan=\"5\" valign=\"top\">aerospace</th>\n",
       "      <th>124.5840</th>\n",
       "      <td>1.0740</td>\n",
       "      <td>116</td>\n",
       "    </tr>\n",
       "    <tr>\n",
       "      <th>235.5885</th>\n",
       "      <td>1.2465</td>\n",
       "      <td>189</td>\n",
       "    </tr>\n",
       "    <tr>\n",
       "      <th>505.0000</th>\n",
       "      <td>1.0000</td>\n",
       "      <td>505</td>\n",
       "    </tr>\n",
       "    <tr>\n",
       "      <th>559.7100</th>\n",
       "      <td>1.2438</td>\n",
       "      <td>450</td>\n",
       "    </tr>\n",
       "    <tr>\n",
       "      <th>1410.1620</th>\n",
       "      <td>1.0740</td>\n",
       "      <td>1313</td>\n",
       "    </tr>\n",
       "    <tr>\n",
       "      <th>...</th>\n",
       "      <th>...</th>\n",
       "      <td>...</td>\n",
       "      <td>...</td>\n",
       "    </tr>\n",
       "    <tr>\n",
       "      <th rowspan=\"5\" valign=\"top\">water systems</th>\n",
       "      <th>8685.0750</th>\n",
       "      <td>1.2425</td>\n",
       "      <td>6990</td>\n",
       "    </tr>\n",
       "    <tr>\n",
       "      <th>8831.8650</th>\n",
       "      <td>1.2635</td>\n",
       "      <td>6990</td>\n",
       "    </tr>\n",
       "    <tr>\n",
       "      <th>10050.4000</th>\n",
       "      <td>1.2563</td>\n",
       "      <td>8000</td>\n",
       "    </tr>\n",
       "    <tr>\n",
       "      <th>10329.6000</th>\n",
       "      <td>1.2912</td>\n",
       "      <td>8000</td>\n",
       "    </tr>\n",
       "    <tr>\n",
       "      <th>15754.7610</th>\n",
       "      <td>2.2539</td>\n",
       "      <td>6990</td>\n",
       "    </tr>\n",
       "  </tbody>\n",
       "</table>\n",
       "<p>724 rows × 2 columns</p>\n",
       "</div>"
      ],
      "text/plain": [
       "                             Exchange_Rate  Total_Sales\n",
       "Field          Sales_in_CAD                            \n",
       "aerospace      124.5840             1.0740          116\n",
       "               235.5885             1.2465          189\n",
       "               505.0000             1.0000          505\n",
       "               559.7100             1.2438          450\n",
       "               1410.1620            1.0740         1313\n",
       "...                                    ...          ...\n",
       "water systems  8685.0750            1.2425         6990\n",
       "               8831.8650            1.2635         6990\n",
       "               10050.4000           1.2563         8000\n",
       "               10329.6000           1.2912         8000\n",
       "               15754.7610           2.2539         6990\n",
       "\n",
       "[724 rows x 2 columns]"
      ]
     },
     "execution_count": 19,
     "metadata": {},
     "output_type": "execute_result"
    }
   ],
   "source": [
    "#Make groupby object which represents groups in the column Fields\n",
    "#Group by some sort of category. In this case grouping by Field. \n",
    "resampled_groups = Sales_df1.groupby(['Field', 'Sales_in_CAD']).sum()\n",
    "resampled_groups"
   ]
  },
  {
   "cell_type": "code",
   "execution_count": 20,
   "metadata": {
    "collapsed": false
   },
   "outputs": [
    {
     "data": {
      "text/html": [
       "<div>\n",
       "<table border=\"1\" class=\"dataframe\">\n",
       "  <thead>\n",
       "    <tr style=\"text-align: right;\">\n",
       "      <th></th>\n",
       "      <th>Field</th>\n",
       "      <th>Sales_in_CAD</th>\n",
       "      <th>Exchange_Rate</th>\n",
       "      <th>Total_Sales</th>\n",
       "    </tr>\n",
       "  </thead>\n",
       "  <tbody>\n",
       "    <tr>\n",
       "      <th>0</th>\n",
       "      <td>aerospace</td>\n",
       "      <td>124.5840</td>\n",
       "      <td>1.0740</td>\n",
       "      <td>116</td>\n",
       "    </tr>\n",
       "    <tr>\n",
       "      <th>1</th>\n",
       "      <td>aerospace</td>\n",
       "      <td>235.5885</td>\n",
       "      <td>1.2465</td>\n",
       "      <td>189</td>\n",
       "    </tr>\n",
       "    <tr>\n",
       "      <th>2</th>\n",
       "      <td>aerospace</td>\n",
       "      <td>505.0000</td>\n",
       "      <td>1.0000</td>\n",
       "      <td>505</td>\n",
       "    </tr>\n",
       "    <tr>\n",
       "      <th>3</th>\n",
       "      <td>aerospace</td>\n",
       "      <td>559.7100</td>\n",
       "      <td>1.2438</td>\n",
       "      <td>450</td>\n",
       "    </tr>\n",
       "    <tr>\n",
       "      <th>4</th>\n",
       "      <td>aerospace</td>\n",
       "      <td>1410.1620</td>\n",
       "      <td>1.0740</td>\n",
       "      <td>1313</td>\n",
       "    </tr>\n",
       "  </tbody>\n",
       "</table>\n",
       "</div>"
      ],
      "text/plain": [
       "       Field  Sales_in_CAD  Exchange_Rate  Total_Sales\n",
       "0  aerospace      124.5840         1.0740          116\n",
       "1  aerospace      235.5885         1.2465          189\n",
       "2  aerospace      505.0000         1.0000          505\n",
       "3  aerospace      559.7100         1.2438          450\n",
       "4  aerospace     1410.1620         1.0740         1313"
      ]
     },
     "execution_count": 20,
     "metadata": {},
     "output_type": "execute_result"
    }
   ],
   "source": [
    "#Resetting the index to get ready to plot the data\n",
    "resampled1_groups = resampled_groups.reset_index()\n",
    "resampled1_groups.head()"
   ]
  },
  {
   "cell_type": "code",
   "execution_count": 21,
   "metadata": {
    "collapsed": false
   },
   "outputs": [
    {
     "data": {
      "text/plain": [
       "<matplotlib.figure.Figure at 0x9276668>"
      ]
     },
     "metadata": {},
     "output_type": "display_data"
    },
    {
     "data": {
      "image/png": "[encoded data removed]",
      "text/plain": [
       "<matplotlib.figure.Figure at 0x9293048>"
      ]
     },
     "metadata": {},
     "output_type": "display_data"
    }
   ],
   "source": [
    "#Creating a boxplot\n",
    "\n",
    "fig = plt.figure(figsize = (20, 10)) # This wont change the size of the figure.. how do i do this ..\n",
    "\n",
    "fig = resampled1_groups.boxplot(by = 'Field', column='Sales_in_CAD')\n"
   ]
  },
  {
   "cell_type": "code",
   "execution_count": null,
   "metadata": {
    "collapsed": true
   },
   "outputs": [],
   "source": []
  },
  {
   "cell_type": "code",
   "execution_count": null,
   "metadata": {
    "collapsed": true
   },
   "outputs": [],
   "source": []
  },
  {
   "cell_type": "code",
   "execution_count": null,
   "metadata": {
    "collapsed": true
   },
   "outputs": [],
   "source": []
  },
  {
   "cell_type": "markdown",
   "metadata": {},
   "source": [
    "#PLOT4: Creating a plot that shows sales to returning customers vs. Sales to new customers, to help determine whether it is more important to invest money in ads to target new customers, or to maintain old customers. "
   ]
  },
  {
   "cell_type": "code",
   "execution_count": null,
   "metadata": {
    "collapsed": true
   },
   "outputs": [],
   "source": []
  }
 ],
 "metadata": {
  "kernelspec": {
   "display_name": "Python 3",
   "language": "python",
   "name": "python3"
  },
  "language_info": {
   "codemirror_mode": {
    "name": "ipython",
    "version": 3
   },
   "file_extension": ".py",
   "mimetype": "text/x-python",
   "name": "python",
   "nbconvert_exporter": "python",
   "pygments_lexer": "ipython3",
   "version": "3.4.3"
  }
 },
 "nbformat": 4,
 "nbformat_minor": 0
}
